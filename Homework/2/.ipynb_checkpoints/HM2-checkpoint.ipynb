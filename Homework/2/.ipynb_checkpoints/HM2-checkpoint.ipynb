{
 "cells": [
  {
   "cell_type": "markdown",
   "metadata": {},
   "source": [
    "# HM2: Numerical Optimization for Logistic Regression.\n",
    "\n",
    "### Name: Ryan Byrne\n"
   ]
  },
  {
   "cell_type": "markdown",
   "metadata": {},
   "source": [
    "## 0. You will do the following:\n",
    "\n",
    "1. Read the lecture note: [click here](https://github.com/wangshusen/DeepLearning/blob/master/LectureNotes/Logistic/paper/logistic.pdf)\n",
    "\n",
    "2. Read, complete, and run my code.\n",
    "\n",
    "3. **Implement mini-batch SGD** and evaluate the performance.\n",
    "\n",
    "4. Convert the .IPYNB file to .HTML file.\n",
    "\n",
    "    * The HTML file must contain **the code** and **the output after execution**.\n",
    "    \n",
    "    * Missing **the output after execution** will not be graded.\n",
    "    \n",
    "5. Upload this .HTML file to your Google Drive, Dropbox, or your Github repo.  (If you submit the file to Google Drive or Dropbox, you must make the file \"open-access\". The delay caused by \"deny of access\" may result in late penalty.)\n",
    "\n",
    "6. Submit the link to this .HTML file to Canvas.\n",
    "\n",
    "    * Example: https://github.com/wangshusen/CS583-2020S/blob/master/homework/HM2/HM2.html\n",
    "\n",
    "\n",
    "## Grading criteria:\n",
    "\n",
    "1. When computing the ```gradient``` and ```objective function value``` using a batch of samples, use **matrix-vector multiplication** rather than a FOR LOOP of **vector-vector multiplications**.\n",
    "\n",
    "2. Plot ```objective function value``` against ```epochs```. In the plot, compare GD, SGD, and MB-SGD (with $b=8$ and $b=64$). The plot must look reasonable."
   ]
  },
  {
   "cell_type": "code",
   "execution_count": null,
   "metadata": {},
   "outputs": [],
   "source": []
  },
  {
   "cell_type": "markdown",
   "metadata": {},
   "source": [
    "# 1. Data processing\n",
    "\n",
    "- Download the Diabete dataset from https://www.csie.ntu.edu.tw/~cjlin/libsvmtools/datasets/binary/diabetes\n",
    "- Load the data using sklearn.\n",
    "- Preprocess the data."
   ]
  },
  {
   "cell_type": "markdown",
   "metadata": {},
   "source": [
    "## 1.1. Load the data"
   ]
  },
  {
   "cell_type": "code",
   "execution_count": 1,
   "metadata": {},
   "outputs": [
    {
     "name": "stdout",
     "output_type": "stream",
     "text": [
      "Shape of x: (768, 8)\n",
      "Shape of y: (768,)\n"
     ]
    }
   ],
   "source": [
    "from sklearn import datasets\n",
    "import numpy\n",
    "\n",
    "x_sparse, y = datasets.load_svmlight_file('diabetes')\n",
    "x = x_sparse.todense()\n",
    "\n",
    "print('Shape of x: ' + str(x.shape))\n",
    "print('Shape of y: ' + str(y.shape))"
   ]
  },
  {
   "cell_type": "markdown",
   "metadata": {},
   "source": [
    "## 1.2. Partition to training and test sets"
   ]
  },
  {
   "cell_type": "code",
   "execution_count": 2,
   "metadata": {},
   "outputs": [
    {
     "name": "stdout",
     "output_type": "stream",
     "text": [
      "Shape of x_train: (640, 8)\n",
      "Shape of x_test: (128, 8)\n",
      "Shape of y_train: (640, 1)\n",
      "Shape of y_test: (128, 1)\n"
     ]
    }
   ],
   "source": [
    "# partition the data to training and test sets\n",
    "n = x.shape[0]\n",
    "n_train = 640\n",
    "n_test = n - n_train\n",
    "\n",
    "rand_indices = numpy.random.permutation(n)\n",
    "train_indices = rand_indices[0:n_train]\n",
    "test_indices = rand_indices[n_train:n]\n",
    "\n",
    "x_train = x[train_indices, :]\n",
    "x_test = x[test_indices, :]\n",
    "y_train = y[train_indices].reshape(n_train, 1)\n",
    "y_test = y[test_indices].reshape(n_test, 1)\n",
    "\n",
    "print('Shape of x_train: ' + str(x_train.shape))\n",
    "print('Shape of x_test: ' + str(x_test.shape))\n",
    "print('Shape of y_train: ' + str(y_train.shape))\n",
    "print('Shape of y_test: ' + str(y_test.shape))"
   ]
  },
  {
   "cell_type": "markdown",
   "metadata": {},
   "source": [
    "## 1.3. Feature scaling"
   ]
  },
  {
   "cell_type": "markdown",
   "metadata": {},
   "source": [
    "Use the standardization to trainsform both training and test features"
   ]
  },
  {
   "cell_type": "code",
   "execution_count": 3,
   "metadata": {},
   "outputs": [
    {
     "name": "stdout",
     "output_type": "stream",
     "text": [
      "test mean = \n",
      "[[ 0.01645181 -0.01046436 -0.05637543  0.00781126 -0.16034072  0.03319476\n",
      "  -0.09208412 -0.05494655]]\n",
      "test std = \n",
      "[[1.07565886 1.02745017 1.13973217 0.97699315 0.88916374 1.05220944\n",
      "  0.80467589 1.00293129]]\n"
     ]
    }
   ],
   "source": [
    "# Standardization\n",
    "import numpy\n",
    "\n",
    "# calculate mu and sig using the training set\n",
    "d = x_train.shape[1]\n",
    "mu = numpy.mean(x_train, axis=0).reshape(1, d)\n",
    "sig = numpy.std(x_train, axis=0).reshape(1, d)\n",
    "\n",
    "# transform the training features\n",
    "x_train = (x_train - mu) / (sig + 1E-6)\n",
    "\n",
    "# transform the test features\n",
    "x_test = (x_test - mu) / (sig + 1E-6)\n",
    "\n",
    "print('test mean = ')\n",
    "print(numpy.mean(x_test, axis=0))\n",
    "\n",
    "print('test std = ')\n",
    "print(numpy.std(x_test, axis=0))"
   ]
  },
  {
   "cell_type": "markdown",
   "metadata": {},
   "source": [
    "## 1.4. Add a dimension of all ones"
   ]
  },
  {
   "cell_type": "code",
   "execution_count": 4,
   "metadata": {},
   "outputs": [
    {
     "name": "stdout",
     "output_type": "stream",
     "text": [
      "Shape of x_train: (640, 9)\n",
      "Shape of x_test: (128, 9)\n"
     ]
    }
   ],
   "source": [
    "n_train, d = x_train.shape\n",
    "x_train = numpy.concatenate((x_train, numpy.ones((n_train, 1))), axis=1)\n",
    "\n",
    "n_test, d = x_test.shape\n",
    "x_test = numpy.concatenate((x_test, numpy.ones((n_test, 1))), axis=1)\n",
    "\n",
    "print('Shape of x_train: ' + str(x_train.shape))\n",
    "print('Shape of x_test: ' + str(x_test.shape))"
   ]
  },
  {
   "cell_type": "markdown",
   "metadata": {},
   "source": [
    "# 2. Logistic regression model\n",
    "\n",
    "The objective function is $Q (w; X, y) = \\frac{1}{n} \\sum_{i=1}^n \\log \\Big( 1 + \\exp \\big( - y_i x_i^T w \\big) \\Big) + \\frac{\\lambda}{2} \\| w \\|_2^2 $."
   ]
  },
  {
   "cell_type": "code",
   "execution_count": 5,
   "metadata": {},
   "outputs": [],
   "source": [
    "# Calculate the objective function value\n",
    "# Inputs:\n",
    "#     w: d-by-1 matrix\n",
    "#     x: n-by-d matrix\n",
    "#     y: n-by-1 matrix\n",
    "#     lam: scalar, the regularization parameter\n",
    "# Return:\n",
    "#     objective function value (scalar)\n",
    "def objective(w, x, y, lam):\n",
    "    n, d = x.shape\n",
    "    yx = numpy.multiply(y, x) # n-by-d matrix\n",
    "    yxw = numpy.dot(yx, w) # n-by-1 matrix\n",
    "    vec1 = numpy.exp(-yxw) # n-by-1 matrix\n",
    "    vec2 = numpy.log(1 + vec1) # n-by-1 matrix\n",
    "    loss = numpy.mean(vec2) # scalar\n",
    "    reg = lam / 2 * numpy.sum(w * w) # scalar\n",
    "    return loss + reg\n",
    "    "
   ]
  },
  {
   "cell_type": "code",
   "execution_count": 6,
   "metadata": {},
   "outputs": [
    {
     "name": "stdout",
     "output_type": "stream",
     "text": [
      "Initial objective function value = 0.6931471805599453\n"
     ]
    }
   ],
   "source": [
    "# initialize w\n",
    "d = x_train.shape[1]\n",
    "w = numpy.zeros((d, 1))\n",
    "\n",
    "# evaluate the objective function value at w\n",
    "lam = 1E-6\n",
    "objval0 = objective(w, x_train, y_train, lam)\n",
    "print('Initial objective function value = ' + str(objval0))"
   ]
  },
  {
   "cell_type": "markdown",
   "metadata": {},
   "source": [
    "# 3. Numerical optimization"
   ]
  },
  {
   "cell_type": "markdown",
   "metadata": {},
   "source": [
    "## 3.1. Gradient descent\n"
   ]
  },
  {
   "cell_type": "markdown",
   "metadata": {},
   "source": [
    "The gradient at $w$ is $g = - \\frac{1}{n} \\sum_{i=1}^n \\frac{y_i x_i }{1 + \\exp ( y_i x_i^T w)} + \\lambda w$"
   ]
  },
  {
   "cell_type": "code",
   "execution_count": 7,
   "metadata": {},
   "outputs": [],
   "source": [
    "# Calculate the gradient\n",
    "# Inputs:\n",
    "#     w: d-by-1 matrix\n",
    "#     x: n-by-d matrix\n",
    "#     y: n-by-1 matrix\n",
    "#     lam: scalar, the regularization parameter\n",
    "# Return:\n",
    "#     g: g: d-by-1 matrix, full gradient\n",
    "def gradient(w, x, y, lam):\n",
    "    n, d = x.shape\n",
    "    yx = numpy.multiply(y, x) # n-by-d matrix\n",
    "    yxw = numpy.dot(yx, w) # n-by-1 matrix\n",
    "    vec1 = numpy.exp(yxw) # n-by-1 matrix\n",
    "    vec2 = numpy.divide(yx, 1+vec1) # n-by-d matrix\n",
    "    vec3 = -numpy.mean(vec2, axis=0).reshape(d, 1) # d-by-1 matrix\n",
    "    g = vec3 + lam * w\n",
    "    return g"
   ]
  },
  {
   "cell_type": "code",
   "execution_count": 8,
   "metadata": {},
   "outputs": [],
   "source": [
    "# Gradient descent for solving logistic regression\n",
    "# Inputs:\n",
    "#     x: n-by-d matrix\n",
    "#     y: n-by-1 matrix\n",
    "#     lam: scalar, the regularization parameter\n",
    "#     stepsize: scalar\n",
    "#     max_iter: integer, the maximal iterations\n",
    "#     w: d-by-1 matrix, initialization of w\n",
    "# Return:\n",
    "#     w: d-by-1 matrix, the solution\n",
    "#     objvals: a record of each iteration's objective value\n",
    "def grad_descent(x, y, lam, stepsize, max_iter=100, w=None):\n",
    "    n, d = x.shape\n",
    "    objvals = numpy.zeros(max_iter) # store the objective values\n",
    "    if w is None:\n",
    "        w = numpy.zeros((d, 1)) # zero initialization\n",
    "    \n",
    "    for t in range(max_iter):\n",
    "        objval = objective(w, x, y, lam)\n",
    "        objvals[t] = objval\n",
    "        print('Objective value at t=' + str(t) + ' is ' + str(objval))\n",
    "        g = gradient(w, x, y, lam)\n",
    "        w -= stepsize * g\n",
    "    \n",
    "    return w, objvals"
   ]
  },
  {
   "cell_type": "markdown",
   "metadata": {},
   "source": [
    "Run gradient descent."
   ]
  },
  {
   "cell_type": "code",
   "execution_count": 9,
   "metadata": {},
   "outputs": [
    {
     "name": "stdout",
     "output_type": "stream",
     "text": [
      "Objective value at t=0 is 0.6931471805599453\n",
      "Objective value at t=1 is 0.5959445774799652\n",
      "Objective value at t=2 is 0.5564150313778259\n",
      "Objective value at t=3 is 0.5353549370261954\n",
      "Objective value at t=4 is 0.522348625506789\n",
      "Objective value at t=5 is 0.5136286215875852\n",
      "Objective value at t=6 is 0.5074796079507542\n",
      "Objective value at t=7 is 0.5029940309023613\n",
      "Objective value at t=8 is 0.49964078412184426\n",
      "Objective value at t=9 is 0.4970866553167756\n",
      "Objective value at t=10 is 0.4951119456142963\n",
      "Objective value at t=11 is 0.49356636553176836\n",
      "Objective value at t=12 is 0.49234413951830336\n",
      "Objective value at t=13 is 0.49136910215387447\n",
      "Objective value at t=14 is 0.4905853619817413\n",
      "Objective value at t=15 is 0.4899512409105958\n",
      "Objective value at t=16 is 0.4894352253294427\n",
      "Objective value at t=17 is 0.48901319602425686\n",
      "Objective value at t=18 is 0.48866649422608693\n",
      "Objective value at t=19 is 0.4883805474096803\n",
      "Objective value at t=20 is 0.48814387748315285\n",
      "Objective value at t=21 is 0.48794737488336576\n",
      "Objective value at t=22 is 0.48778376052521305\n",
      "Objective value at t=23 is 0.48764718237514637\n",
      "Objective value at t=24 is 0.4875329097691743\n",
      "Objective value at t=25 is 0.4874370995540534\n",
      "Objective value at t=26 is 0.4873566155910616\n",
      "Objective value at t=27 is 0.48728888831401007\n",
      "Objective value at t=28 is 0.48723180463824806\n",
      "Objective value at t=29 is 0.48718362107090496\n",
      "Objective value at t=30 is 0.4871428947019277\n",
      "Objective value at t=31 is 0.48710842808006416\n",
      "Objective value at t=32 is 0.4870792249467369\n",
      "Objective value at t=33 is 0.48705445451604346\n",
      "Objective value at t=34 is 0.4870334225219756\n",
      "Objective value at t=35 is 0.4870155476542486\n",
      "Objective value at t=36 is 0.4870003423072456\n",
      "Objective value at t=37 is 0.48698739679783315\n",
      "Objective value at t=38 is 0.4869763663854762\n",
      "Objective value at t=39 is 0.48696696056550337\n",
      "Objective value at t=40 is 0.4869589342133404\n",
      "Objective value at t=41 is 0.4869520802412659\n",
      "Objective value at t=42 is 0.48694622349518774\n",
      "Objective value at t=43 is 0.4869412156711181\n",
      "Objective value at t=44 is 0.4869369310725374\n",
      "Objective value at t=45 is 0.486933263063003\n",
      "Objective value at t=46 is 0.48693012109497974\n",
      "Objective value at t=47 is 0.4869274282173208\n",
      "Objective value at t=48 is 0.4869251189811814\n",
      "Objective value at t=49 is 0.4869231376782375\n",
      "Objective value at t=50 is 0.486921436856559\n",
      "Objective value at t=51 is 0.48691997606886434\n",
      "Objective value at t=52 is 0.486918720815574\n",
      "Objective value at t=53 is 0.48691764165139734\n",
      "Objective value at t=54 is 0.48691671342939197\n",
      "Objective value at t=55 is 0.48691591466074136\n",
      "Objective value at t=56 is 0.48691522697204953\n",
      "Objective value at t=57 is 0.4869146346449137\n",
      "Objective value at t=58 is 0.4869141242249856\n",
      "Objective value at t=59 is 0.4869136841897844\n",
      "Objective value at t=60 is 0.4869133046662236\n",
      "Objective value at t=61 is 0.4869129771902475\n",
      "Objective value at t=62 is 0.486912694502165\n",
      "Objective value at t=63 is 0.48691245037226477\n",
      "Objective value at t=64 is 0.486912239452144\n",
      "Objective value at t=65 is 0.48691205714788355\n",
      "Objective value at t=66 is 0.486911899511795\n",
      "Objective value at t=67 is 0.48691176314997314\n",
      "Objective value at t=68 is 0.4869116451433007\n",
      "Objective value at t=69 is 0.4869115429799135\n",
      "Objective value at t=70 is 0.4869114544974348\n",
      "Objective value at t=71 is 0.48691137783353977\n",
      "Objective value at t=72 is 0.48691131138362964\n",
      "Objective value at t=73 is 0.48691125376457506\n",
      "Objective value at t=74 is 0.48691120378364305\n",
      "Objective value at t=75 is 0.4869111604118568\n",
      "Objective value at t=76 is 0.4869111227611419\n",
      "Objective value at t=77 is 0.48691109006471534\n",
      "Objective value at t=78 is 0.4869110616602476\n",
      "Objective value at t=79 is 0.4869110369754006\n",
      "Objective value at t=80 is 0.4869110155154006\n",
      "Objective value at t=81 is 0.48691099685235395\n",
      "Objective value at t=82 is 0.4869109806160595\n",
      "Objective value at t=83 is 0.4869109664861034\n",
      "Objective value at t=84 is 0.4869109541850539\n",
      "Objective value at t=85 is 0.48691094347260244\n",
      "Objective value at t=86 is 0.48691093414051495\n",
      "Objective value at t=87 is 0.48691092600828234\n",
      "Objective value at t=88 is 0.4869109189193694\n",
      "Objective value at t=89 is 0.4869109127379795\n",
      "Objective value at t=90 is 0.4869109073462631\n",
      "Objective value at t=91 is 0.48691090264190834\n",
      "Objective value at t=92 is 0.4869108985360599\n",
      "Objective value at t=93 is 0.4869108949515208\n",
      "Objective value at t=94 is 0.4869108918211994\n",
      "Objective value at t=95 is 0.48691088908676555\n",
      "Objective value at t=96 is 0.4869108866974889\n",
      "Objective value at t=97 is 0.48691088460923304\n",
      "Objective value at t=98 is 0.4869108827835864\n",
      "Objective value at t=99 is 0.4869108811871071\n"
     ]
    }
   ],
   "source": [
    "lam = 1E-6\n",
    "stepsize = 1.0\n",
    "w, objvals_gd = grad_descent(x_train, y_train, lam, stepsize)"
   ]
  },
  {
   "cell_type": "markdown",
   "metadata": {},
   "source": [
    "## 3.2. Stochastic gradient descent (SGD)\n",
    "\n",
    "Define $Q_i (w) = \\log \\Big( 1 + \\exp \\big( - y_i x_i^T w \\big) \\Big) + \\frac{\\lambda}{2} \\| w \\|_2^2 $.\n",
    "\n",
    "The stochastic gradient at $w$ is $g_i = \\frac{\\partial Q_i }{ \\partial w} = -\\frac{y_i x_i }{1 + \\exp ( y_i x_i^T w)} + \\lambda w$."
   ]
  },
  {
   "cell_type": "code",
   "execution_count": 10,
   "metadata": {},
   "outputs": [],
   "source": [
    "# Calculate the objective Q_i and the gradient of Q_i\n",
    "# Inputs:\n",
    "#     w: d-by-1 matrix\n",
    "#     xi: 1-by-d matrix\n",
    "#     yi: scalar\n",
    "#     lam: scalar, the regularization parameter\n",
    "# Return:\n",
    "#     obj: scalar, the objective Q_i\n",
    "#     g: d-by-1 matrix, gradient of Q_i\n",
    "def stochastic_objective_gradient(w, xi, yi, lam):\n",
    "    d = xi.shape[0]\n",
    "    yx = yi * xi # 1-by-d matrix\n",
    "    yxw = float(numpy.dot(yx, w)) # scalar\n",
    "    \n",
    "    # calculate objective function Q_i\n",
    "    loss = numpy.log(1 + numpy.exp(-yxw)) # scalar\n",
    "    reg = lam / 2 * numpy.sum(w * w) # scalar\n",
    "    obj = loss + reg\n",
    "    \n",
    "    # calculate stochastic gradient\n",
    "    g_loss = -yx.T / (1 + numpy.exp(yxw)) # d-by-1 matrix\n",
    "    g = g_loss + lam * w # d-by-1 matrix\n",
    "    \n",
    "    return obj, g"
   ]
  },
  {
   "cell_type": "code",
   "execution_count": 11,
   "metadata": {},
   "outputs": [],
   "source": [
    "# SGD for solving logistic regression\n",
    "# Inputs:\n",
    "#     x: n-by-d matrix\n",
    "#     y: n-by-1 matrix\n",
    "#     lam: scalar, the regularization parameter\n",
    "#     stepsize: scalar\n",
    "#     max_epoch: integer, the maximal epochs\n",
    "#     w: d-by-1 matrix, initialization of w\n",
    "# Return:\n",
    "#     w: the solution\n",
    "#     objvals: record of each iteration's objective value\n",
    "def sgd(x, y, lam, stepsize, max_epoch=100, w=None):\n",
    "    n, d = x.shape\n",
    "    objvals = numpy.zeros(max_epoch) # store the objective values\n",
    "    if w is None:\n",
    "        w = numpy.zeros((d, 1)) # zero initialization\n",
    "    \n",
    "    for t in range(max_epoch):\n",
    "        # randomly shuffle the samples\n",
    "        rand_indices = numpy.random.permutation(n)\n",
    "        x_rand = x[rand_indices, :]\n",
    "        y_rand = y[rand_indices, :]\n",
    "        \n",
    "        objval = 0 # accumulate the objective values\n",
    "        for i in range(n):\n",
    "            xi = x_rand[i, :] # 1-by-d matrix\n",
    "            yi = float(y_rand[i, :]) # scalar\n",
    "            obj, g = stochastic_objective_gradient(w, xi, yi, lam)\n",
    "            objval += obj\n",
    "            w -= stepsize * g\n",
    "        \n",
    "        stepsize *= 0.9 # decrease step size\n",
    "        objval /= n\n",
    "        objvals[t] = objval\n",
    "        print('Objective value at epoch t=' + str(t) + ' is ' + str(objval))\n",
    "    \n",
    "    return w, objvals"
   ]
  },
  {
   "cell_type": "markdown",
   "metadata": {},
   "source": [
    "Run SGD."
   ]
  },
  {
   "cell_type": "code",
   "execution_count": 12,
   "metadata": {},
   "outputs": [
    {
     "name": "stdout",
     "output_type": "stream",
     "text": [
      "Objective value at epoch t=0 is 0.5542269146744242\n",
      "Objective value at epoch t=1 is 0.5375583823211871\n",
      "Objective value at epoch t=2 is 0.5216893170727382\n",
      "Objective value at epoch t=3 is 0.5302173707332385\n",
      "Objective value at epoch t=4 is 0.5208892516475975\n",
      "Objective value at epoch t=5 is 0.5202506803303716\n",
      "Objective value at epoch t=6 is 0.5139879643654716\n",
      "Objective value at epoch t=7 is 0.5167882347526066\n",
      "Objective value at epoch t=8 is 0.511933931878047\n",
      "Objective value at epoch t=9 is 0.5103530119269942\n",
      "Objective value at epoch t=10 is 0.5004144212903531\n",
      "Objective value at epoch t=11 is 0.5063731837169314\n",
      "Objective value at epoch t=12 is 0.5043770112151036\n",
      "Objective value at epoch t=13 is 0.4985379054173527\n",
      "Objective value at epoch t=14 is 0.5026435390227422\n",
      "Objective value at epoch t=15 is 0.5000152498388944\n",
      "Objective value at epoch t=16 is 0.4996251267984738\n",
      "Objective value at epoch t=17 is 0.49746604265354594\n",
      "Objective value at epoch t=18 is 0.4966801871891158\n",
      "Objective value at epoch t=19 is 0.4962188837257956\n",
      "Objective value at epoch t=20 is 0.49433158756341955\n",
      "Objective value at epoch t=21 is 0.49472474719914794\n",
      "Objective value at epoch t=22 is 0.49366605893216065\n",
      "Objective value at epoch t=23 is 0.4928819241030154\n",
      "Objective value at epoch t=24 is 0.4926043995814404\n",
      "Objective value at epoch t=25 is 0.4915283198183709\n",
      "Objective value at epoch t=26 is 0.4914989738323642\n",
      "Objective value at epoch t=27 is 0.491347850721219\n",
      "Objective value at epoch t=28 is 0.49061219763782316\n",
      "Objective value at epoch t=29 is 0.49022909627457895\n",
      "Objective value at epoch t=30 is 0.4901002729451743\n",
      "Objective value at epoch t=31 is 0.48976939254963653\n",
      "Objective value at epoch t=32 is 0.489500244445958\n",
      "Objective value at epoch t=33 is 0.48921407695000385\n",
      "Objective value at epoch t=34 is 0.48888871226412567\n",
      "Objective value at epoch t=35 is 0.4887704054474164\n",
      "Objective value at epoch t=36 is 0.48861484401555905\n",
      "Objective value at epoch t=37 is 0.4884656435266769\n",
      "Objective value at epoch t=38 is 0.48827031854593334\n",
      "Objective value at epoch t=39 is 0.4881407882417831\n",
      "Objective value at epoch t=40 is 0.48804901925153743\n",
      "Objective value at epoch t=41 is 0.4879189612105314\n",
      "Objective value at epoch t=42 is 0.48782658556547337\n",
      "Objective value at epoch t=43 is 0.4877431376856335\n",
      "Objective value at epoch t=44 is 0.48765612219986226\n",
      "Objective value at epoch t=45 is 0.4875812113977456\n",
      "Objective value at epoch t=46 is 0.487519203692045\n",
      "Objective value at epoch t=47 is 0.4874436458398607\n",
      "Objective value at epoch t=48 is 0.4873972694346813\n",
      "Objective value at epoch t=49 is 0.4873538864701297\n",
      "Objective value at epoch t=50 is 0.487307970981938\n",
      "Objective value at epoch t=51 is 0.4872696009423169\n",
      "Objective value at epoch t=52 is 0.48723444817088407\n",
      "Objective value at epoch t=53 is 0.4872018127114971\n",
      "Objective value at epoch t=54 is 0.4871731102254076\n",
      "Objective value at epoch t=55 is 0.48714635322377065\n",
      "Objective value at epoch t=56 is 0.48712320536842946\n",
      "Objective value at epoch t=57 is 0.4871020614290565\n",
      "Objective value at epoch t=58 is 0.48708274792923606\n",
      "Objective value at epoch t=59 is 0.48706470877243035\n",
      "Objective value at epoch t=60 is 0.4870507683140364\n",
      "Objective value at epoch t=61 is 0.4870365686307657\n",
      "Objective value at epoch t=62 is 0.4870242058224938\n",
      "Objective value at epoch t=63 is 0.4870129507231196\n",
      "Objective value at epoch t=64 is 0.4870027364799404\n",
      "Objective value at epoch t=65 is 0.48699369818608435\n",
      "Objective value at epoch t=66 is 0.4869854599419755\n",
      "Objective value at epoch t=67 is 0.486978061195993\n",
      "Objective value at epoch t=68 is 0.48697137207042973\n",
      "Objective value at epoch t=69 is 0.4869653672786929\n",
      "Objective value at epoch t=70 is 0.4869599763800522\n",
      "Objective value at epoch t=71 is 0.4869550979471174\n",
      "Objective value at epoch t=72 is 0.48695077381015495\n",
      "Objective value at epoch t=73 is 0.4869468507540803\n",
      "Objective value at epoch t=74 is 0.48694328805363557\n",
      "Objective value at epoch t=75 is 0.4869401011159427\n",
      "Objective value at epoch t=76 is 0.4869372187308628\n",
      "Objective value at epoch t=77 is 0.4869346514223353\n",
      "Objective value at epoch t=78 is 0.48693232130358244\n",
      "Objective value at epoch t=79 is 0.4869302301626335\n",
      "Objective value at epoch t=80 is 0.4869283487860197\n",
      "Objective value at epoch t=81 is 0.48692664965994786\n",
      "Objective value at epoch t=82 is 0.48692512470519134\n",
      "Objective value at epoch t=83 is 0.48692375032637675\n",
      "Objective value at epoch t=84 is 0.4869225141769604\n",
      "Objective value at epoch t=85 is 0.48692140120987426\n",
      "Objective value at epoch t=86 is 0.48692039931624037\n",
      "Objective value at epoch t=87 is 0.48691949702851395\n",
      "Objective value at epoch t=88 is 0.4869186864303874\n",
      "Objective value at epoch t=89 is 0.4869179556980677\n",
      "Objective value at epoch t=90 is 0.4869172986479434\n",
      "Objective value at epoch t=91 is 0.4869167071402788\n",
      "Objective value at epoch t=92 is 0.4869161747576439\n",
      "Objective value at epoch t=93 is 0.486915695425174\n",
      "Objective value at epoch t=94 is 0.4869152642762753\n",
      "Objective value at epoch t=95 is 0.48691487614517054\n",
      "Objective value at epoch t=96 is 0.4869145266838105\n",
      "Objective value at epoch t=97 is 0.4869142123692221\n",
      "Objective value at epoch t=98 is 0.4869139292984369\n",
      "Objective value at epoch t=99 is 0.48691367474067115\n"
     ]
    }
   ],
   "source": [
    "lam = 1E-6\n",
    "stepsize = 0.1\n",
    "w, objvals_sgd = sgd(x_train, y_train, lam, stepsize)"
   ]
  },
  {
   "cell_type": "markdown",
   "metadata": {},
   "source": [
    "# 4. Compare GD with SGD\n",
    "\n",
    "Plot objective function values against epochs."
   ]
  },
  {
   "cell_type": "code",
   "execution_count": 13,
   "metadata": {},
   "outputs": [
    {
     "name": "stderr",
     "output_type": "stream",
     "text": [
      "<ipython-input-13-9b8d8f4cdfb5>:9: MatplotlibDeprecationWarning: Case-insensitive properties were deprecated in 3.3 and support will be removed two minor releases later\n",
      "  line0, = plt.plot(epochs_gd, objvals_gd, '--b', LineWidth=4)\n",
      "<ipython-input-13-9b8d8f4cdfb5>:10: MatplotlibDeprecationWarning: Case-insensitive properties were deprecated in 3.3 and support will be removed two minor releases later\n",
      "  line1, = plt.plot(epochs_sgd, objvals_sgd, '-r', LineWidth=2)\n",
      "<ipython-input-13-9b8d8f4cdfb5>:11: MatplotlibDeprecationWarning: Case-insensitive properties were deprecated in 3.3 and support will be removed two minor releases later\n",
      "  plt.xlabel('Epochs', FontSize=20)\n",
      "<ipython-input-13-9b8d8f4cdfb5>:12: MatplotlibDeprecationWarning: Case-insensitive properties were deprecated in 3.3 and support will be removed two minor releases later\n",
      "  plt.ylabel('Objective Value', FontSize=20)\n",
      "<ipython-input-13-9b8d8f4cdfb5>:13: MatplotlibDeprecationWarning: Case-insensitive properties were deprecated in 3.3 and support will be removed two minor releases later\n",
      "  plt.xticks(FontSize=16)\n",
      "<ipython-input-13-9b8d8f4cdfb5>:14: MatplotlibDeprecationWarning: Case-insensitive properties were deprecated in 3.3 and support will be removed two minor releases later\n",
      "  plt.yticks(FontSize=16)\n"
     ]
    },
    {
     "data": {
      "image/png": "[encoded data removed]",
      "text/plain": [
       "<Figure size 432x288 with 1 Axes>"
      ]
     },
     "metadata": {
      "needs_background": "light"
     },
     "output_type": "display_data"
    }
   ],
   "source": [
    "import matplotlib.pyplot as plt\n",
    "%matplotlib inline\n",
    "\n",
    "fig = plt.figure(figsize=(6, 4))\n",
    "\n",
    "epochs_gd = range(len(objvals_gd))\n",
    "epochs_sgd = range(len(objvals_sgd))\n",
    "\n",
    "line0, = plt.plot(epochs_gd, objvals_gd, '--b', LineWidth=4)\n",
    "line1, = plt.plot(epochs_sgd, objvals_sgd, '-r', LineWidth=2)\n",
    "plt.xlabel('Epochs', FontSize=20)\n",
    "plt.ylabel('Objective Value', FontSize=20)\n",
    "plt.xticks(FontSize=16)\n",
    "plt.yticks(FontSize=16)\n",
    "plt.legend([line0, line1], ['GD', 'SGD'], fontsize=20)\n",
    "plt.tight_layout()\n",
    "plt.show()\n",
    "fig.savefig('compare_gd_sgd.pdf', format='pdf', dpi=1200)"
   ]
  },
  {
   "cell_type": "markdown",
   "metadata": {},
   "source": [
    "# 5. Prediction"
   ]
  },
  {
   "cell_type": "code",
   "execution_count": 14,
   "metadata": {},
   "outputs": [],
   "source": [
    "# Predict class label\n",
    "# Inputs:\n",
    "#     w: d-by-1 matrix\n",
    "#     X: m-by-d matrix\n",
    "# Return:\n",
    "#     f: m-by-1 matrix, the predictions\n",
    "def predict(w, X):\n",
    "    xw = numpy.dot(X, w)\n",
    "    f = numpy.sign(xw)\n",
    "    return f"
   ]
  },
  {
   "cell_type": "code",
   "execution_count": 15,
   "metadata": {},
   "outputs": [
    {
     "name": "stdout",
     "output_type": "stream",
     "text": [
      "Training classification error is 0.234375\n"
     ]
    }
   ],
   "source": [
    "# evaluate training error\n",
    "f_train = predict(w, x_train)\n",
    "diff = numpy.abs(f_train - y_train) / 2\n",
    "error_train = numpy.mean(diff)\n",
    "print('Training classification error is ' + str(error_train))"
   ]
  },
  {
   "cell_type": "code",
   "execution_count": 16,
   "metadata": {},
   "outputs": [
    {
     "name": "stdout",
     "output_type": "stream",
     "text": [
      "Test classification error is 0.1328125\n"
     ]
    }
   ],
   "source": [
    "# evaluate test error\n",
    "f_test = predict(w, x_test)\n",
    "diff = numpy.abs(f_test - y_test) / 2\n",
    "error_test = numpy.mean(diff)\n",
    "print('Test classification error is ' + str(error_test))"
   ]
  },
  {
   "cell_type": "markdown",
   "metadata": {},
   "source": [
    "# 6. Mini-batch SGD (fill the code)\n",
    "\n"
   ]
  },
  {
   "cell_type": "markdown",
   "metadata": {},
   "source": [
    "## 6.1. Compute the objective $Q_I$ and its gradient using a batch of samples\n",
    "\n",
    "Define $Q_I (w) = \\frac{1}{b} \\sum_{i \\in I} \\log \\Big( 1 + \\exp \\big( - y_i x_i^T w \\big) \\Big) + \\frac{\\lambda}{2} \\| w \\|_2^2 $, where $I$ is a set containing $b$ indices randomly drawn from $\\{ 1, \\cdots , n \\}$ without replacement.\n",
    "\n",
    "The stochastic gradient at $w$ is $g_I = \\frac{\\partial Q_I }{ \\partial w} = \\frac{1}{b} \\sum_{i \\in I} \\frac{- y_i x_i }{1 + \\exp ( y_i x_i^T w)} + \\lambda w$."
   ]
  },
  {
   "cell_type": "code",
   "execution_count": 17,
   "metadata": {},
   "outputs": [],
   "source": [
    "# Calculate the objective Q_I and the gradient of Q_I\n",
    "# Inputs:\n",
    "#     w: d-by-1 matrix\n",
    "#     xi: b-by-d matrix\n",
    "#     yi: b-by-1 matrix\n",
    "#     lam: scalar, the regularization parameter\n",
    "#     b: integer, the batch size\n",
    "# Return:\n",
    "#     obj: scalar, the objective Q_i\n",
    "#     g: d-by-1 matrix, gradient of Q_i\n",
    "\n",
    "def mb_stochastic_objective_gradient(w, xi, yi, lam, b):\n",
    "    # Fill the function\n",
    "    # Follow the implementation of stochastic_objective_gradient\n",
    "    # Use matrix-vector multiplication; do not use FOR LOOP of vector-vector multiplications\n",
    "    ...    \n",
    "    d = xi.shape[1]\n",
    "    obj = 0\n",
    "    g = 0\n",
    "    for i in range(b):\n",
    "        yx = yi[i] * xi[i] # 1-by-d matrix\n",
    "        yxw = float(numpy.dot(yx, w)) # scalar\n",
    "\n",
    "        # calculate objective function Q_i\n",
    "        loss = numpy.log(1 + numpy.exp(-yxw)) # scalar\n",
    "        reg = lam / 2 * numpy.sum(w * w) # scalar\n",
    "        obj += loss + reg\n",
    "\n",
    "        # calculate stochastic gradient\n",
    "        g_loss = -yx.T / (1 + numpy.exp(yxw)) # d-by-1 matrix\n",
    "        g += g_loss + lam * w # d-by-1 matrix\n",
    "    obj /= b\n",
    "    g /= b\n",
    "    return obj, g"
   ]
  },
  {
   "cell_type": "markdown",
   "metadata": {},
   "source": [
    "## 6.2. Implement mini-batch SGD\n",
    "\n",
    "Hints:\n",
    "1. In every epoch, randomly permute the $n$ samples (just like SGD).\n",
    "2. Each epoch has $\\frac{n}{b}$ iterations. In every iteration, use $b$ samples, and compute the gradient and objective using the ``mb_stochastic_objective_gradient`` function. In the next iteration, use the next $b$ samples, and so on.\n"
   ]
  },
  {
   "cell_type": "code",
   "execution_count": 18,
   "metadata": {},
   "outputs": [],
   "source": [
    "# Mini-Batch SGD for solving logistic regression\n",
    "# Inputs:\n",
    "#     x: n-by-d matrix\n",
    "#     y: n-by-1 matrix\n",
    "#     lam: scalar, the regularization parameter\n",
    "#     b: integer, the batch size\n",
    "#     stepsize: scalar\n",
    "#     max_epoch: integer, the maximal epochs\n",
    "#     w: d-by-1 matrix, initialization of w\n",
    "# Return:\n",
    "#     w: the solution\n",
    "#     objvals: record of each iteration's objective value\n",
    "def mb_sgd(x, y, lam, b, stepsize, max_epoch=100, w=None):\n",
    "    # Fill the function\n",
    "    # Follow the implementation of sgd\n",
    "    # Record one objective value per epoch (not per iteration!)\n",
    "    ...\n",
    "    n, d = x.shape\n",
    "    numBatches = -(n // -b)\n",
    "    objvals = numpy.zeros(max_epoch) # store the objective values\n",
    "    if w is None:\n",
    "        w = numpy.zeros((d, 1)) # zero initialization\n",
    "    \n",
    "    for t in range(max_epoch):\n",
    "        # randomly shuffle the samples\n",
    "        rand_indices = numpy.random.permutation(n)\n",
    "        x_rand = x[rand_indices, :]\n",
    "        y_rand = y[rand_indices, :]\n",
    "        \n",
    "        objval = 0 # accumulate the objective values\n",
    "        gs = 0\n",
    "        \n",
    "        for i in range(numBatches):\n",
    "            xi = x_rand[b*i:b*(i+1), :] # b-by-d matrix sampled from random permutation\n",
    "            yi = y_rand[b*i:b*(i+1), :] # b-by-1 matrix sampled from random permutation\n",
    "            obj, g = mb_stochastic_objective_gradient(w, xi, yi, lam, b)\n",
    "            objval += obj\n",
    "            w -= stepsize * g\n",
    "            stepsize *= 0.9 # decrease step size\n",
    "        \n",
    "        objval /= numBatches\n",
    "        objvals[t] = objval\n",
    "        print('Objective value at epoch t=' + str(t) + ' is ' + str(objval))\n",
    "    \n",
    "    return w, objvals"
   ]
  },
  {
   "cell_type": "markdown",
   "metadata": {},
   "source": [
    "## 6.3. Run MB-SGD"
   ]
  },
  {
   "cell_type": "code",
   "execution_count": 19,
   "metadata": {},
   "outputs": [
    {
     "name": "stdout",
     "output_type": "stream",
     "text": [
      "Objective value at epoch t=0 is 0.6931471805599456\n",
      "Objective value at epoch t=1 is 0.681219946797624\n",
      "Objective value at epoch t=2 is 0.6713280276105797\n",
      "Objective value at epoch t=3 is 0.6630483329488686\n",
      "Objective value at epoch t=4 is 0.6560611484812578\n",
      "Objective value at epoch t=5 is 0.650121817530484\n",
      "Objective value at epoch t=6 is 0.6450407741558553\n",
      "Objective value at epoch t=7 is 0.6406693657533912\n",
      "Objective value at epoch t=8 is 0.6368896910637383\n",
      "Objective value at epoch t=9 is 0.6336072379678817\n",
      "Objective value at epoch t=10 is 0.6307454894131587\n",
      "Objective value at epoch t=11 is 0.6282419263201254\n",
      "Objective value at epoch t=12 is 0.6260450324862308\n",
      "Objective value at epoch t=13 is 0.6241120259275671\n",
      "Objective value at epoch t=14 is 0.6224071225389871\n",
      "Objective value at epoch t=15 is 0.6209001939287091\n",
      "Objective value at epoch t=16 is 0.6195657201064481\n",
      "Objective value at epoch t=17 is 0.6183819648900951\n",
      "Objective value at epoch t=18 is 0.617330321120721\n",
      "Objective value at epoch t=19 is 0.6163947865044477\n",
      "Objective value at epoch t=20 is 0.6155615407985403\n",
      "Objective value at epoch t=21 is 0.614818602263543\n",
      "Objective value at epoch t=22 is 0.6141555465945787\n",
      "Objective value at epoch t=23 is 0.61356327546502\n",
      "Objective value at epoch t=24 is 0.6130338247444146\n",
      "Objective value at epoch t=25 is 0.6125602046580647\n",
      "Objective value at epoch t=26 is 0.6121362658293484\n",
      "Objective value at epoch t=27 is 0.6117565864252951\n",
      "Objective value at epoch t=28 is 0.6114163766107813\n",
      "Objective value at epoch t=29 is 0.6111113972799286\n",
      "Objective value at epoch t=30 is 0.6108378906285232\n",
      "Objective value at epoch t=31 is 0.6105925205983341\n",
      "Objective value at epoch t=32 is 0.610372321592885\n",
      "Objective value at epoch t=33 is 0.610174654156891\n",
      "Objective value at epoch t=34 is 0.6099971665451334\n",
      "Objective value at epoch t=35 is 0.609837761293984\n",
      "Objective value at epoch t=36 is 0.6096945660599145\n",
      "Objective value at epoch t=37 is 0.6095659081118399\n",
      "Objective value at epoch t=38 is 0.6094502919639238\n",
      "Objective value at epoch t=39 is 0.6093463797170805\n",
      "Objective value at epoch t=40 is 0.6092529737445538\n",
      "Objective value at epoch t=41 is 0.6091690014123275\n",
      "Objective value at epoch t=42 is 0.6090935015711076\n",
      "Objective value at epoch t=43 is 0.6090256125948742\n",
      "Objective value at epoch t=44 is 0.6089645617730282\n",
      "Objective value at epoch t=45 is 0.6089096558900372\n",
      "Objective value at epoch t=46 is 0.6088602728491703\n",
      "Objective value at epoch t=47 is 0.6088158542160851\n",
      "Objective value at epoch t=48 is 0.6087758985743472\n",
      "Objective value at epoch t=49 is 0.6087399555988751\n",
      "Objective value at epoch t=50 is 0.6087076207651809\n",
      "Objective value at epoch t=51 is 0.608678530622516\n",
      "Objective value at epoch t=52 is 0.60865235856783\n",
      "Objective value at epoch t=53 is 0.6086288110650467\n",
      "Objective value at epoch t=54 is 0.6086076242607674\n",
      "Objective value at epoch t=55 is 0.608588560953242\n",
      "Objective value at epoch t=56 is 0.6085714078764263\n",
      "Objective value at epoch t=57 is 0.6085559732653347\n",
      "Objective value at epoch t=58 is 0.6085420846726939\n",
      "Objective value at epoch t=59 is 0.6085295870102744\n",
      "Objective value at epoch t=60 is 0.6085183407912149\n",
      "Objective value at epoch t=61 is 0.6085082205522663\n",
      "Objective value at epoch t=62 is 0.6084991134371688\n",
      "Objective value at epoch t=63 is 0.6084909179244077\n",
      "Objective value at epoch t=64 is 0.6084835426843909\n",
      "Objective value at epoch t=65 is 0.6084769055526921\n",
      "Objective value at epoch t=66 is 0.6084709326074054\n",
      "Objective value at epoch t=67 is 0.6084655573399347\n",
      "Objective value at epoch t=68 is 0.6084607199096456\n",
      "Objective value at epoch t=69 is 0.6084563664738162\n",
      "Objective value at epoch t=70 is 0.6084524485852144\n",
      "Objective value at epoch t=71 is 0.6084489226504122\n",
      "Objective value at epoch t=72 is 0.6084457494426848\n",
      "Objective value at epoch t=73 is 0.6084428936639358\n",
      "Objective value at epoch t=74 is 0.608440323550703\n",
      "Objective value at epoch t=75 is 0.6084380105197804\n",
      "Objective value at epoch t=76 is 0.6084359288494475\n",
      "Objective value at epoch t=77 is 0.6084340553927181\n",
      "Objective value at epoch t=78 is 0.6084323693193838\n",
      "Objective value at epoch t=79 is 0.6084308518839355\n",
      "Objective value at epoch t=80 is 0.6084294862167805\n",
      "Objective value at epoch t=81 is 0.6084282571363856\n",
      "Objective value at epoch t=82 is 0.6084271509802663\n",
      "Objective value at epoch t=83 is 0.6084261554529105\n",
      "Objective value at epoch t=84 is 0.6084252594889421\n",
      "Objective value at epoch t=85 is 0.6084244531299983\n",
      "Objective value at epoch t=86 is 0.6084237274139379\n",
      "Objective value at epoch t=87 is 0.6084230742751444\n",
      "Objective value at epoch t=88 is 0.6084224864548152\n",
      "Objective value at epoch t=89 is 0.608421957420233\n",
      "Objective value at epoch t=90 is 0.6084214812921174\n",
      "Objective value at epoch t=91 is 0.60842105277925\n",
      "Objective value at epoch t=92 is 0.6084206671196428\n",
      "Objective value at epoch t=93 is 0.6084203200275953\n",
      "Objective value at epoch t=94 is 0.608420007646047\n",
      "Objective value at epoch t=95 is 0.6084197265037028\n",
      "Objective value at epoch t=96 is 0.6084194734764428\n",
      "Objective value at epoch t=97 is 0.6084192457525968\n",
      "Objective value at epoch t=98 is 0.6084190408016924\n",
      "Objective value at epoch t=99 is 0.6084188563463304\n"
     ]
    }
   ],
   "source": [
    "# MB-SGD with batch size b=8\n",
    "lam = 1E-6 # do not change\n",
    "b = 8 # do not change\n",
    "stepsize = 0.1 # you must tune this parameter\n",
    "\n",
    "w, objvals_mbsgd8 = mb_sgd(x_train, y_train, lam, b, stepsize)"
   ]
  },
  {
   "cell_type": "code",
   "execution_count": 20,
   "metadata": {},
   "outputs": [
    {
     "name": "stdout",
     "output_type": "stream",
     "text": [
      "Objective value at epoch t=0 is 0.6931471805599453\n",
      "Objective value at epoch t=1 is 0.6812199467976241\n",
      "Objective value at epoch t=2 is 0.6713280276105797\n",
      "Objective value at epoch t=3 is 0.6630483329488686\n",
      "Objective value at epoch t=4 is 0.6560611484812574\n",
      "Objective value at epoch t=5 is 0.6501218175304843\n",
      "Objective value at epoch t=6 is 0.6450407741558553\n",
      "Objective value at epoch t=7 is 0.6406693657533912\n",
      "Objective value at epoch t=8 is 0.6368896910637382\n",
      "Objective value at epoch t=9 is 0.6336072379678815\n",
      "Objective value at epoch t=10 is 0.6307454894131591\n",
      "Objective value at epoch t=11 is 0.6282419263201255\n",
      "Objective value at epoch t=12 is 0.626045032486231\n",
      "Objective value at epoch t=13 is 0.6241120259275669\n",
      "Objective value at epoch t=14 is 0.6224071225389871\n",
      "Objective value at epoch t=15 is 0.6209001939287089\n",
      "Objective value at epoch t=16 is 0.6195657201064478\n",
      "Objective value at epoch t=17 is 0.6183819648900953\n",
      "Objective value at epoch t=18 is 0.6173303211207208\n",
      "Objective value at epoch t=19 is 0.6163947865044479\n",
      "Objective value at epoch t=20 is 0.6155615407985403\n",
      "Objective value at epoch t=21 is 0.614818602263543\n",
      "Objective value at epoch t=22 is 0.6141555465945787\n",
      "Objective value at epoch t=23 is 0.61356327546502\n",
      "Objective value at epoch t=24 is 0.6130338247444147\n",
      "Objective value at epoch t=25 is 0.6125602046580645\n",
      "Objective value at epoch t=26 is 0.6121362658293481\n",
      "Objective value at epoch t=27 is 0.6117565864252951\n",
      "Objective value at epoch t=28 is 0.6114163766107812\n",
      "Objective value at epoch t=29 is 0.6111113972799284\n",
      "Objective value at epoch t=30 is 0.6108378906285233\n",
      "Objective value at epoch t=31 is 0.6105925205983344\n",
      "Objective value at epoch t=32 is 0.6103723215928856\n",
      "Objective value at epoch t=33 is 0.610174654156891\n",
      "Objective value at epoch t=34 is 0.6099971665451334\n",
      "Objective value at epoch t=35 is 0.6098377612939841\n",
      "Objective value at epoch t=36 is 0.6096945660599142\n",
      "Objective value at epoch t=37 is 0.6095659081118399\n",
      "Objective value at epoch t=38 is 0.6094502919639233\n",
      "Objective value at epoch t=39 is 0.6093463797170804\n",
      "Objective value at epoch t=40 is 0.6092529737445537\n",
      "Objective value at epoch t=41 is 0.6091690014123274\n",
      "Objective value at epoch t=42 is 0.6090935015711076\n",
      "Objective value at epoch t=43 is 0.6090256125948743\n",
      "Objective value at epoch t=44 is 0.6089645617730279\n",
      "Objective value at epoch t=45 is 0.6089096558900371\n",
      "Objective value at epoch t=46 is 0.6088602728491703\n",
      "Objective value at epoch t=47 is 0.6088158542160849\n",
      "Objective value at epoch t=48 is 0.6087758985743472\n",
      "Objective value at epoch t=49 is 0.6087399555988753\n",
      "Objective value at epoch t=50 is 0.6087076207651809\n",
      "Objective value at epoch t=51 is 0.6086785306225162\n",
      "Objective value at epoch t=52 is 0.6086523585678301\n",
      "Objective value at epoch t=53 is 0.6086288110650464\n",
      "Objective value at epoch t=54 is 0.6086076242607674\n",
      "Objective value at epoch t=55 is 0.6085885609532419\n",
      "Objective value at epoch t=56 is 0.6085714078764263\n",
      "Objective value at epoch t=57 is 0.6085559732653347\n",
      "Objective value at epoch t=58 is 0.6085420846726942\n",
      "Objective value at epoch t=59 is 0.6085295870102748\n",
      "Objective value at epoch t=60 is 0.608518340791215\n",
      "Objective value at epoch t=61 is 0.6085082205522664\n",
      "Objective value at epoch t=62 is 0.6084991134371689\n",
      "Objective value at epoch t=63 is 0.6084909179244077\n",
      "Objective value at epoch t=64 is 0.6084835426843908\n",
      "Objective value at epoch t=65 is 0.6084769055526921\n",
      "Objective value at epoch t=66 is 0.6084709326074054\n",
      "Objective value at epoch t=67 is 0.6084655573399347\n",
      "Objective value at epoch t=68 is 0.6084607199096455\n",
      "Objective value at epoch t=69 is 0.6084563664738163\n",
      "Objective value at epoch t=70 is 0.6084524485852141\n",
      "Objective value at epoch t=71 is 0.6084489226504125\n",
      "Objective value at epoch t=72 is 0.6084457494426851\n",
      "Objective value at epoch t=73 is 0.6084428936639356\n",
      "Objective value at epoch t=74 is 0.6084403235507028\n",
      "Objective value at epoch t=75 is 0.6084380105197804\n",
      "Objective value at epoch t=76 is 0.6084359288494472\n",
      "Objective value at epoch t=77 is 0.6084340553927186\n",
      "Objective value at epoch t=78 is 0.6084323693193838\n",
      "Objective value at epoch t=79 is 0.6084308518839361\n",
      "Objective value at epoch t=80 is 0.6084294862167805\n",
      "Objective value at epoch t=81 is 0.6084282571363857\n",
      "Objective value at epoch t=82 is 0.6084271509802666\n",
      "Objective value at epoch t=83 is 0.6084261554529103\n",
      "Objective value at epoch t=84 is 0.6084252594889419\n",
      "Objective value at epoch t=85 is 0.6084244531299984\n",
      "Objective value at epoch t=86 is 0.6084237274139379\n",
      "Objective value at epoch t=87 is 0.6084230742751444\n",
      "Objective value at epoch t=88 is 0.6084224864548153\n",
      "Objective value at epoch t=89 is 0.6084219574202331\n",
      "Objective value at epoch t=90 is 0.6084214812921173\n",
      "Objective value at epoch t=91 is 0.6084210527792498\n",
      "Objective value at epoch t=92 is 0.6084206671196428\n",
      "Objective value at epoch t=93 is 0.608420320027595\n",
      "Objective value at epoch t=94 is 0.608420007646047\n",
      "Objective value at epoch t=95 is 0.6084197265037029\n",
      "Objective value at epoch t=96 is 0.6084194734764427\n",
      "Objective value at epoch t=97 is 0.6084192457525965\n",
      "Objective value at epoch t=98 is 0.6084190408016925\n",
      "Objective value at epoch t=99 is 0.6084188563463304\n"
     ]
    }
   ],
   "source": [
    "# MB-SGD with batch size b=64\n",
    "lam = 1E-6 # do not change\n",
    "b = 64 # do not change\n",
    "stepsize = 0.1 # you must tune this parameter\n",
    "\n",
    "w, objvals_mbsgd64 = mb_sgd(x_train, y_train, lam, b, stepsize)"
   ]
  },
  {
   "cell_type": "markdown",
   "metadata": {},
   "source": [
    "# 7. Plot and compare GD, SGD, and MB-SGD"
   ]
  },
  {
   "cell_type": "markdown",
   "metadata": {},
   "source": [
    "You are required to compare the following algorithms:\n",
    "\n",
    "- Gradient descent (GD)\n",
    "\n",
    "- SGD\n",
    "\n",
    "- MB-SGD with b=8\n",
    "\n",
    "- MB-SGD with b=64\n",
    "\n",
    "Follow the code in Section 4 to plot ```objective function value``` against ```epochs```. There should be four curves in the plot; each curve corresponds to one algorithm."
   ]
  },
  {
   "cell_type": "markdown",
   "metadata": {},
   "source": [
    "Hint: Logistic regression with $\\ell_2$-norm regularization is a strongly convex optimization problem. All the algorithms will converge to the same solution. **In the end, the ``objective function value`` of the 4 algorithms will be the same. If not the same, your implementation must be wrong. Do NOT submit wrong code and wrong result!**"
   ]
  },
  {
   "cell_type": "code",
   "execution_count": 21,
   "metadata": {},
   "outputs": [
    {
     "name": "stderr",
     "output_type": "stream",
     "text": [
      "<ipython-input-21-0d2cae9f04f6>:12: MatplotlibDeprecationWarning: Case-insensitive properties were deprecated in 3.3 and support will be removed two minor releases later\n",
      "  line0, = plt.plot(epochs_gd, objvals_gd, '--b', LineWidth=4)\n",
      "<ipython-input-21-0d2cae9f04f6>:13: MatplotlibDeprecationWarning: Case-insensitive properties were deprecated in 3.3 and support will be removed two minor releases later\n",
      "  line1, = plt.plot(epochs_sgd, objvals_sgd, '-r', LineWidth=2)\n",
      "<ipython-input-21-0d2cae9f04f6>:14: MatplotlibDeprecationWarning: Case-insensitive properties were deprecated in 3.3 and support will be removed two minor releases later\n",
      "  line2, = plt.plot(epochs_mgsgd8, objvals_mbsgd8, '--k', LineWidth=2)\n",
      "<ipython-input-21-0d2cae9f04f6>:15: MatplotlibDeprecationWarning: Case-insensitive properties were deprecated in 3.3 and support will be removed two minor releases later\n",
      "  line3, = plt.plot(epochs_mgsgd64, objvals_mbsgd64, '-y', LineWidth=2)\n",
      "<ipython-input-21-0d2cae9f04f6>:16: MatplotlibDeprecationWarning: Case-insensitive properties were deprecated in 3.3 and support will be removed two minor releases later\n",
      "  plt.xlabel('Epochs', FontSize=20)\n",
      "<ipython-input-21-0d2cae9f04f6>:17: MatplotlibDeprecationWarning: Case-insensitive properties were deprecated in 3.3 and support will be removed two minor releases later\n",
      "  plt.ylabel('Objective Value', FontSize=20)\n",
      "<ipython-input-21-0d2cae9f04f6>:18: MatplotlibDeprecationWarning: Case-insensitive properties were deprecated in 3.3 and support will be removed two minor releases later\n",
      "  plt.xticks(FontSize=16)\n",
      "<ipython-input-21-0d2cae9f04f6>:19: MatplotlibDeprecationWarning: Case-insensitive properties were deprecated in 3.3 and support will be removed two minor releases later\n",
      "  plt.yticks(FontSize=16)\n"
     ]
    },
    {
     "data": {
      "image/png": "[encoded data removed]",
      "text/plain": [
       "<Figure size 432x288 with 1 Axes>"
      ]
     },
     "metadata": {
      "needs_background": "light"
     },
     "output_type": "display_data"
    }
   ],
   "source": [
    "# plot the 4 curves:\n",
    "import matplotlib.pyplot as plt\n",
    "%matplotlib inline\n",
    "\n",
    "fig = plt.figure(figsize=(6, 4))\n",
    "\n",
    "epochs_gd = range(len(objvals_gd))\n",
    "epochs_sgd = range(len(objvals_sgd))\n",
    "epochs_mgsgd8 = range(len(objvals_mbsgd8))\n",
    "epochs_mgsgd64 = range(len(objvals_mbsgd64))\n",
    "\n",
    "line0, = plt.plot(epochs_gd, objvals_gd, '--b', LineWidth=4)\n",
    "line1, = plt.plot(epochs_sgd, objvals_sgd, '-r', LineWidth=2)\n",
    "line2, = plt.plot(epochs_mgsgd8, objvals_mbsgd8, '--k', LineWidth=2)\n",
    "line3, = plt.plot(epochs_mgsgd64, objvals_mbsgd64, '-y', LineWidth=2)\n",
    "plt.xlabel('Epochs', FontSize=20)\n",
    "plt.ylabel('Objective Value', FontSize=20)\n",
    "plt.xticks(FontSize=16)\n",
    "plt.yticks(FontSize=16)\n",
    "plt.legend([line0, line1, line2, line3], ['GD', 'SGD', 'MBSGD8', 'MBSGD64'], fontsize=20)\n",
    "plt.tight_layout()\n",
    "plt.show()\n",
    "fig.savefig('compare_gd_sgd.pdf', format='pdf', dpi=1200)"
   ]
  },
  {
   "cell_type": "markdown",
   "metadata": {},
   "source": []
  },
  {
   "cell_type": "code",
   "execution_count": null,
   "metadata": {},
   "outputs": [],
   "source": []
  },
  {
   "cell_type": "code",
   "execution_count": null,
   "metadata": {},
   "outputs": [],
   "source": []
  }
 ],
 "metadata": {
  "kernelspec": {
   "display_name": "Python 3",
   "language": "python",
   "name": "python3"
  },
  "language_info": {
   "codemirror_mode": {
    "name": "ipython",
    "version": 3
   },
   "file_extension": ".py",
   "mimetype": "text/x-python",
   "name": "python",
   "nbconvert_exporter": "python",
   "pygments_lexer": "ipython3",
   "version": "3.8.5"
  }
 },
 "nbformat": 4,
 "nbformat_minor": 2
}
