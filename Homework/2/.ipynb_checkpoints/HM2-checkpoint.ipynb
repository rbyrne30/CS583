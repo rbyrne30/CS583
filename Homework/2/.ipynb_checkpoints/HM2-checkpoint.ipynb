{
 "cells": [
  {
   "cell_type": "markdown",
   "metadata": {},
   "source": [
    "# HM2: Numerical Optimization for Logistic Regression.\n",
    "\n",
    "### Name: Ryan Byrne\n"
   ]
  },
  {
   "cell_type": "markdown",
   "metadata": {},
   "source": [
    "## 0. You will do the following:\n",
    "\n",
    "1. Read the lecture note: [click here](https://github.com/wangshusen/DeepLearning/blob/master/LectureNotes/Logistic/paper/logistic.pdf)\n",
    "\n",
    "2. Read, complete, and run my code.\n",
    "\n",
    "3. **Implement mini-batch SGD** and evaluate the performance.\n",
    "\n",
    "4. Convert the .IPYNB file to .HTML file.\n",
    "\n",
    "    * The HTML file must contain **the code** and **the output after execution**.\n",
    "    \n",
    "    * Missing **the output after execution** will not be graded.\n",
    "    \n",
    "5. Upload this .HTML file to your Google Drive, Dropbox, or your Github repo.  (If you submit the file to Google Drive or Dropbox, you must make the file \"open-access\". The delay caused by \"deny of access\" may result in late penalty.)\n",
    "\n",
    "6. Submit the link to this .HTML file to Canvas.\n",
    "\n",
    "    * Example: https://github.com/wangshusen/CS583-2020S/blob/master/homework/HM2/HM2.html\n",
    "\n",
    "\n",
    "## Grading criteria:\n",
    "\n",
    "1. When computing the ```gradient``` and ```objective function value``` using a batch of samples, use **matrix-vector multiplication** rather than a FOR LOOP of **vector-vector multiplications**.\n",
    "\n",
    "2. Plot ```objective function value``` against ```epochs```. In the plot, compare GD, SGD, and MB-SGD (with $b=8$ and $b=64$). The plot must look reasonable."
   ]
  },
  {
   "cell_type": "code",
   "execution_count": null,
   "metadata": {},
   "outputs": [],
   "source": []
  },
  {
   "cell_type": "markdown",
   "metadata": {},
   "source": [
    "# 1. Data processing\n",
    "\n",
    "- Download the Diabete dataset from https://www.csie.ntu.edu.tw/~cjlin/libsvmtools/datasets/binary/diabetes\n",
    "- Load the data using sklearn.\n",
    "- Preprocess the data."
   ]
  },
  {
   "cell_type": "markdown",
   "metadata": {},
   "source": [
    "## 1.1. Load the data"
   ]
  },
  {
   "cell_type": "code",
   "execution_count": 1,
   "metadata": {},
   "outputs": [
    {
     "name": "stdout",
     "output_type": "stream",
     "text": [
      "Shape of x: (768, 8)\n",
      "Shape of y: (768,)\n"
     ]
    }
   ],
   "source": [
    "from sklearn import datasets\n",
    "import numpy\n",
    "\n",
    "x_sparse, y = datasets.load_svmlight_file('diabetes')\n",
    "x = x_sparse.todense()\n",
    "\n",
    "print('Shape of x: ' + str(x.shape))\n",
    "print('Shape of y: ' + str(y.shape))"
   ]
  },
  {
   "cell_type": "markdown",
   "metadata": {},
   "source": [
    "## 1.2. Partition to training and test sets"
   ]
  },
  {
   "cell_type": "code",
   "execution_count": 2,
   "metadata": {},
   "outputs": [
    {
     "name": "stdout",
     "output_type": "stream",
     "text": [
      "Shape of x_train: (640, 8)\n",
      "Shape of x_test: (128, 8)\n",
      "Shape of y_train: (640, 1)\n",
      "Shape of y_test: (128, 1)\n"
     ]
    }
   ],
   "source": [
    "# partition the data to training and test sets\n",
    "n = x.shape[0]\n",
    "n_train = 640\n",
    "n_test = n - n_train\n",
    "\n",
    "rand_indices = numpy.random.permutation(n)\n",
    "train_indices = rand_indices[0:n_train]\n",
    "test_indices = rand_indices[n_train:n]\n",
    "\n",
    "x_train = x[train_indices, :]\n",
    "x_test = x[test_indices, :]\n",
    "y_train = y[train_indices].reshape(n_train, 1)\n",
    "y_test = y[test_indices].reshape(n_test, 1)\n",
    "\n",
    "print('Shape of x_train: ' + str(x_train.shape))\n",
    "print('Shape of x_test: ' + str(x_test.shape))\n",
    "print('Shape of y_train: ' + str(y_train.shape))\n",
    "print('Shape of y_test: ' + str(y_test.shape))"
   ]
  },
  {
   "cell_type": "markdown",
   "metadata": {},
   "source": [
    "## 1.3. Feature scaling"
   ]
  },
  {
   "cell_type": "markdown",
   "metadata": {},
   "source": [
    "Use the standardization to trainsform both training and test features"
   ]
  },
  {
   "cell_type": "code",
   "execution_count": 3,
   "metadata": {},
   "outputs": [
    {
     "name": "stdout",
     "output_type": "stream",
     "text": [
      "test mean = \n",
      "[[-0.06177037 -0.13745822 -0.19551265 -0.05640105 -0.07058279  0.0044175\n",
      "  -0.11876025 -0.11382527]]\n",
      "test std = \n",
      "[[1.00395103 1.08038245 1.1143646  1.0137244  1.07121222 0.93857839\n",
      "  0.82843572 0.85645788]]\n"
     ]
    }
   ],
   "source": [
    "# Standardization\n",
    "import numpy\n",
    "\n",
    "# calculate mu and sig using the training set\n",
    "d = x_train.shape[1]\n",
    "mu = numpy.mean(x_train, axis=0).reshape(1, d)\n",
    "sig = numpy.std(x_train, axis=0).reshape(1, d)\n",
    "\n",
    "# transform the training features\n",
    "x_train = (x_train - mu) / (sig + 1E-6)\n",
    "\n",
    "# transform the test features\n",
    "x_test = (x_test - mu) / (sig + 1E-6)\n",
    "\n",
    "print('test mean = ')\n",
    "print(numpy.mean(x_test, axis=0))\n",
    "\n",
    "print('test std = ')\n",
    "print(numpy.std(x_test, axis=0))"
   ]
  },
  {
   "cell_type": "markdown",
   "metadata": {},
   "source": [
    "## 1.4. Add a dimension of all ones"
   ]
  },
  {
   "cell_type": "code",
   "execution_count": 4,
   "metadata": {},
   "outputs": [
    {
     "name": "stdout",
     "output_type": "stream",
     "text": [
      "Shape of x_train: (640, 9)\n",
      "Shape of x_test: (128, 9)\n"
     ]
    }
   ],
   "source": [
    "n_train, d = x_train.shape\n",
    "x_train = numpy.concatenate((x_train, numpy.ones((n_train, 1))), axis=1)\n",
    "\n",
    "n_test, d = x_test.shape\n",
    "x_test = numpy.concatenate((x_test, numpy.ones((n_test, 1))), axis=1)\n",
    "\n",
    "print('Shape of x_train: ' + str(x_train.shape))\n",
    "print('Shape of x_test: ' + str(x_test.shape))"
   ]
  },
  {
   "cell_type": "markdown",
   "metadata": {},
   "source": [
    "# 2. Logistic regression model\n",
    "\n",
    "The objective function is $Q (w; X, y) = \\frac{1}{n} \\sum_{i=1}^n \\log \\Big( 1 + \\exp \\big( - y_i x_i^T w \\big) \\Big) + \\frac{\\lambda}{2} \\| w \\|_2^2 $."
   ]
  },
  {
   "cell_type": "code",
   "execution_count": 5,
   "metadata": {},
   "outputs": [],
   "source": [
    "# Calculate the objective function value\n",
    "# Inputs:\n",
    "#     w: d-by-1 matrix\n",
    "#     x: n-by-d matrix\n",
    "#     y: n-by-1 matrix\n",
    "#     lam: scalar, the regularization parameter\n",
    "# Return:\n",
    "#     objective function value (scalar)\n",
    "def objective(w, x, y, lam):\n",
    "    n, d = x.shape\n",
    "    yx = numpy.multiply(y, x) # n-by-d matrix\n",
    "    yxw = numpy.dot(yx, w) # n-by-1 matrix\n",
    "    vec1 = numpy.exp(-yxw) # n-by-1 matrix\n",
    "    vec2 = numpy.log(1 + vec1) # n-by-1 matrix\n",
    "    loss = numpy.mean(vec2) # scalar\n",
    "    reg = lam / 2 * numpy.sum(w * w) # scalar\n",
    "    return loss + reg\n",
    "    "
   ]
  },
  {
   "cell_type": "code",
   "execution_count": 6,
   "metadata": {},
   "outputs": [
    {
     "name": "stdout",
     "output_type": "stream",
     "text": [
      "Initial objective function value = 0.6931471805599453\n"
     ]
    }
   ],
   "source": [
    "# initialize w\n",
    "d = x_train.shape[1]\n",
    "w = numpy.zeros((d, 1))\n",
    "\n",
    "# evaluate the objective function value at w\n",
    "lam = 1E-6\n",
    "objval0 = objective(w, x_train, y_train, lam)\n",
    "print('Initial objective function value = ' + str(objval0))"
   ]
  },
  {
   "cell_type": "markdown",
   "metadata": {},
   "source": [
    "# 3. Numerical optimization"
   ]
  },
  {
   "cell_type": "markdown",
   "metadata": {},
   "source": [
    "## 3.1. Gradient descent\n"
   ]
  },
  {
   "cell_type": "markdown",
   "metadata": {},
   "source": [
    "The gradient at $w$ is $g = - \\frac{1}{n} \\sum_{i=1}^n \\frac{y_i x_i }{1 + \\exp ( y_i x_i^T w)} + \\lambda w$"
   ]
  },
  {
   "cell_type": "code",
   "execution_count": 7,
   "metadata": {},
   "outputs": [],
   "source": [
    "# Calculate the gradient\n",
    "# Inputs:\n",
    "#     w: d-by-1 matrix\n",
    "#     x: n-by-d matrix\n",
    "#     y: n-by-1 matrix\n",
    "#     lam: scalar, the regularization parameter\n",
    "# Return:\n",
    "#     g: g: d-by-1 matrix, full gradient\n",
    "def gradient(w, x, y, lam):\n",
    "    n, d = x.shape\n",
    "    yx = numpy.multiply(y, x) # n-by-d matrix\n",
    "    yxw = numpy.dot(yx, w) # n-by-1 matrix\n",
    "    vec1 = numpy.exp(yxw) # n-by-1 matrix\n",
    "    vec2 = numpy.divide(yx, 1+vec1) # n-by-d matrix\n",
    "    vec3 = -numpy.mean(vec2, axis=0).reshape(d, 1) # d-by-1 matrix\n",
    "    g = vec3 + lam * w\n",
    "    return g"
   ]
  },
  {
   "cell_type": "code",
   "execution_count": 8,
   "metadata": {},
   "outputs": [],
   "source": [
    "# Gradient descent for solving logistic regression\n",
    "# Inputs:\n",
    "#     x: n-by-d matrix\n",
    "#     y: n-by-1 matrix\n",
    "#     lam: scalar, the regularization parameter\n",
    "#     stepsize: scalar\n",
    "#     max_iter: integer, the maximal iterations\n",
    "#     w: d-by-1 matrix, initialization of w\n",
    "# Return:\n",
    "#     w: d-by-1 matrix, the solution\n",
    "#     objvals: a record of each iteration's objective value\n",
    "def grad_descent(x, y, lam, stepsize, max_iter=100, w=None):\n",
    "    n, d = x.shape\n",
    "    objvals = numpy.zeros(max_iter) # store the objective values\n",
    "    if w is None:\n",
    "        w = numpy.zeros((d, 1)) # zero initialization\n",
    "    \n",
    "    for t in range(max_iter):\n",
    "        objval = objective(w, x, y, lam)\n",
    "        objvals[t] = objval\n",
    "        print('Objective value at t=' + str(t) + ' is ' + str(objval))\n",
    "        g = gradient(w, x, y, lam)\n",
    "        w -= stepsize * g\n",
    "    \n",
    "    return w, objvals"
   ]
  },
  {
   "cell_type": "markdown",
   "metadata": {},
   "source": [
    "Run gradient descent."
   ]
  },
  {
   "cell_type": "code",
   "execution_count": 9,
   "metadata": {},
   "outputs": [
    {
     "name": "stdout",
     "output_type": "stream",
     "text": [
      "Objective value at t=0 is 0.6931471805599453\n",
      "Objective value at t=1 is 0.591173248223153\n",
      "Objective value at t=2 is 0.5507937617244079\n",
      "Objective value at t=3 is 0.5292016309468649\n",
      "Objective value at t=4 is 0.5157192128055706\n",
      "Objective value at t=5 is 0.5065681314520525\n",
      "Objective value at t=6 is 0.5000365609857528\n",
      "Objective value at t=7 is 0.49521636724403795\n",
      "Objective value at t=8 is 0.49157278383729525\n",
      "Objective value at t=9 is 0.48876771036521877\n",
      "Objective value at t=10 is 0.4865764054578411\n",
      "Objective value at t=11 is 0.48484387729946266\n",
      "Objective value at t=12 is 0.48346016955026205\n",
      "Objective value at t=13 is 0.4823454881732084\n",
      "Objective value at t=14 is 0.4814408303984344\n",
      "Objective value at t=15 is 0.48070186556335065\n",
      "Objective value at t=16 is 0.4800948233304728\n",
      "Objective value at t=17 is 0.4795936646331014\n",
      "Objective value at t=18 is 0.4791780956409557\n",
      "Objective value at t=19 is 0.47883214890743153\n",
      "Objective value at t=20 is 0.47854315385872537\n",
      "Objective value at t=21 is 0.47830097929656246\n",
      "Objective value at t=22 is 0.4780974689566557\n",
      "Objective value at t=23 is 0.4779260160496473\n",
      "Objective value at t=24 is 0.4777812391676164\n",
      "Objective value at t=25 is 0.4776587330110361\n",
      "Objective value at t=26 is 0.47755487495661664\n",
      "Objective value at t=27 is 0.4774666737298591\n",
      "Objective value at t=28 is 0.4773916501279138\n",
      "Objective value at t=29 is 0.47732774235520214\n",
      "Objective value at t=30 is 0.4772732304154822\n",
      "Objective value at t=31 is 0.4772266753709102\n",
      "Objective value at t=32 is 0.4771868702818362\n",
      "Objective value at t=33 is 0.4771528003843147\n",
      "Objective value at t=34 is 0.477123610617908\n",
      "Objective value at t=35 is 0.4770985790351943\n",
      "Objective value at t=36 is 0.47707709494264283\n",
      "Objective value at t=37 is 0.4770586408661546\n",
      "Objective value at t=38 is 0.4770427776224218\n",
      "Objective value at t=39 is 0.47702913192305174\n",
      "Objective value at t=40 is 0.4770173860522819\n",
      "Objective value at t=41 is 0.4770072692485909\n",
      "Objective value at t=42 is 0.47699855049120327\n",
      "Objective value at t=43 is 0.4769910324486468\n",
      "Objective value at t=44 is 0.47698454639134724\n",
      "Objective value at t=45 is 0.47697894790620055\n",
      "Objective value at t=46 is 0.476974113280031\n",
      "Objective value at t=47 is 0.47696993644227126\n",
      "Objective value at t=48 is 0.47696632637623565\n",
      "Objective value at t=49 is 0.4769632049238716\n",
      "Objective value at t=50 is 0.4769605049215631\n",
      "Objective value at t=51 is 0.4769581686149801\n",
      "Objective value at t=52 is 0.47695614630954086\n",
      "Objective value at t=53 is 0.47695439522013733\n",
      "Objective value at t=54 is 0.4769528784896376\n",
      "Objective value at t=55 is 0.4769515643505439\n",
      "Objective value at t=56 is 0.4769504254082422\n",
      "Objective value at t=57 is 0.4769494380276489\n",
      "Objective value at t=58 is 0.4769485818078966\n",
      "Objective value at t=59 is 0.4769478391320556\n",
      "Objective value at t=60 is 0.4769471947808815\n",
      "Objective value at t=61 is 0.47694663560124784\n",
      "Objective value at t=62 is 0.4769461502213257\n",
      "Objective value at t=63 is 0.47694572880576364\n",
      "Objective value at t=64 is 0.4769453628451209\n",
      "Objective value at t=65 is 0.4769450449746567\n",
      "Objective value at t=66 is 0.47694476881829595\n",
      "Objective value at t=67 is 0.47694452885420485\n",
      "Objective value at t=68 is 0.476944320298924\n",
      "Objective value at t=69 is 0.47694413900744964\n",
      "Objective value at t=70 is 0.47694398138703065\n",
      "Objective value at t=71 is 0.4769438443227634\n",
      "Objective value at t=72 is 0.47694372511334515\n",
      "Objective value at t=73 is 0.47694362141557645\n",
      "Objective value at t=74 is 0.47694353119640265\n",
      "Objective value at t=75 is 0.4769434526914555\n",
      "Objective value at t=76 is 0.4769433843692011\n",
      "Objective value at t=77 is 0.47694332489992564\n",
      "Objective value at t=78 is 0.47694327312889784\n",
      "Objective value at t=79 is 0.4769432280531376\n",
      "Objective value at t=80 is 0.47694318880130104\n",
      "Objective value at t=81 is 0.47694315461625825\n",
      "Objective value at t=82 is 0.4769431248399996\n",
      "Objective value at t=83 is 0.47694309890055536\n",
      "Objective value at t=84 is 0.4769430763006574\n",
      "Objective value at t=85 is 0.4769430566079086\n",
      "Objective value at t=86 is 0.4769430394462568\n",
      "Objective value at t=87 is 0.4769430244885999\n",
      "Objective value at t=88 is 0.4769430114503679\n",
      "Objective value at t=89 is 0.4769430000839548\n",
      "Objective value at t=90 is 0.4769429901738843\n",
      "Objective value at t=91 is 0.47694298153261283\n",
      "Objective value at t=92 is 0.4769429739968854\n",
      "Objective value at t=93 is 0.47694296742456954\n",
      "Objective value at t=94 is 0.47694296169190525\n",
      "Objective value at t=95 is 0.4769429566911161\n",
      "Objective value at t=96 is 0.47694295232833217\n",
      "Objective value at t=97 is 0.47694294852178554\n",
      "Objective value at t=98 is 0.47694294520024055\n",
      "Objective value at t=99 is 0.47694294230162987\n"
     ]
    }
   ],
   "source": [
    "lam = 1E-6\n",
    "stepsize = 1.0\n",
    "w, objvals_gd = grad_descent(x_train, y_train, lam, stepsize)"
   ]
  },
  {
   "cell_type": "markdown",
   "metadata": {},
   "source": [
    "## 3.2. Stochastic gradient descent (SGD)\n",
    "\n",
    "Define $Q_i (w) = \\log \\Big( 1 + \\exp \\big( - y_i x_i^T w \\big) \\Big) + \\frac{\\lambda}{2} \\| w \\|_2^2 $.\n",
    "\n",
    "The stochastic gradient at $w$ is $g_i = \\frac{\\partial Q_i }{ \\partial w} = -\\frac{y_i x_i }{1 + \\exp ( y_i x_i^T w)} + \\lambda w$."
   ]
  },
  {
   "cell_type": "code",
   "execution_count": 10,
   "metadata": {},
   "outputs": [],
   "source": [
    "# Calculate the objective Q_i and the gradient of Q_i\n",
    "# Inputs:\n",
    "#     w: d-by-1 matrix\n",
    "#     xi: 1-by-d matrix\n",
    "#     yi: scalar\n",
    "#     lam: scalar, the regularization parameter\n",
    "# Return:\n",
    "#     obj: scalar, the objective Q_i\n",
    "#     g: d-by-1 matrix, gradient of Q_i\n",
    "def stochastic_objective_gradient(w, xi, yi, lam):\n",
    "    d = xi.shape[0]\n",
    "    yx = yi * xi # 1-by-d matrix\n",
    "    yxw = float(numpy.dot(yx, w)) # scalar\n",
    "    \n",
    "    # calculate objective function Q_i\n",
    "    loss = numpy.log(1 + numpy.exp(-yxw)) # scalar\n",
    "    reg = lam / 2 * numpy.sum(w * w) # scalar\n",
    "    obj = loss + reg\n",
    "    \n",
    "    # calculate stochastic gradient\n",
    "    g_loss = -yx.T / (1 + numpy.exp(yxw)) # d-by-1 matrix\n",
    "    g = g_loss + lam * w # d-by-1 matrix\n",
    "    \n",
    "    return obj, g"
   ]
  },
  {
   "cell_type": "code",
   "execution_count": 11,
   "metadata": {},
   "outputs": [],
   "source": [
    "# SGD for solving logistic regression\n",
    "# Inputs:\n",
    "#     x: n-by-d matrix\n",
    "#     y: n-by-1 matrix\n",
    "#     lam: scalar, the regularization parameter\n",
    "#     stepsize: scalar\n",
    "#     max_epoch: integer, the maximal epochs\n",
    "#     w: d-by-1 matrix, initialization of w\n",
    "# Return:\n",
    "#     w: the solution\n",
    "#     objvals: record of each iteration's objective value\n",
    "def sgd(x, y, lam, stepsize, max_epoch=100, w=None):\n",
    "    n, d = x.shape\n",
    "    objvals = numpy.zeros(max_epoch) # store the objective values\n",
    "    if w is None:\n",
    "        w = numpy.zeros((d, 1)) # zero initialization\n",
    "    \n",
    "    for t in range(max_epoch):\n",
    "        # randomly shuffle the samples\n",
    "        rand_indices = numpy.random.permutation(n)\n",
    "        x_rand = x[rand_indices, :]\n",
    "        y_rand = y[rand_indices, :]\n",
    "        \n",
    "        objval = 0 # accumulate the objective values\n",
    "        for i in range(n):\n",
    "            xi = x_rand[i, :] # 1-by-d matrix\n",
    "            yi = float(y_rand[i, :]) # scalar\n",
    "            obj, g = stochastic_objective_gradient(w, xi, yi, lam)\n",
    "            objval += obj\n",
    "            w -= stepsize * g\n",
    "        \n",
    "        stepsize *= 0.9 # decrease step size\n",
    "        objval /= n\n",
    "        objvals[t] = objval\n",
    "        print('Objective value at epoch t=' + str(t) + ' is ' + str(objval))\n",
    "    \n",
    "    return w, objvals"
   ]
  },
  {
   "cell_type": "markdown",
   "metadata": {},
   "source": [
    "Run SGD."
   ]
  },
  {
   "cell_type": "code",
   "execution_count": 12,
   "metadata": {},
   "outputs": [
    {
     "name": "stdout",
     "output_type": "stream",
     "text": [
      "Objective value at epoch t=0 is 0.5265804604681404\n",
      "Objective value at epoch t=1 is 0.5345169440394801\n",
      "Objective value at epoch t=2 is 0.5136121901498717\n",
      "Objective value at epoch t=3 is 0.5110548061103223\n",
      "Objective value at epoch t=4 is 0.5127048550610689\n",
      "Objective value at epoch t=5 is 0.5133281877065824\n",
      "Objective value at epoch t=6 is 0.5061151300447282\n",
      "Objective value at epoch t=7 is 0.504369573573838\n",
      "Objective value at epoch t=8 is 0.5032313715856565\n",
      "Objective value at epoch t=9 is 0.499208008168854\n",
      "Objective value at epoch t=10 is 0.489815147229685\n",
      "Objective value at epoch t=11 is 0.49731663933718784\n",
      "Objective value at epoch t=12 is 0.4948716956355101\n",
      "Objective value at epoch t=13 is 0.49381423959410753\n",
      "Objective value at epoch t=14 is 0.49065529235614613\n",
      "Objective value at epoch t=15 is 0.49040857900766416\n",
      "Objective value at epoch t=16 is 0.4875359328904432\n",
      "Objective value at epoch t=17 is 0.48881891580109926\n",
      "Objective value at epoch t=18 is 0.48524327188272665\n",
      "Objective value at epoch t=19 is 0.48349119682457325\n",
      "Objective value at epoch t=20 is 0.485863740578356\n",
      "Objective value at epoch t=21 is 0.4839730225956945\n",
      "Objective value at epoch t=22 is 0.4838685889040312\n",
      "Objective value at epoch t=23 is 0.4806970226177089\n",
      "Objective value at epoch t=24 is 0.4829999034583051\n",
      "Objective value at epoch t=25 is 0.4816086535344909\n",
      "Objective value at epoch t=26 is 0.48141506561997305\n",
      "Objective value at epoch t=27 is 0.4811106077342199\n",
      "Objective value at epoch t=28 is 0.4805519406406772\n",
      "Objective value at epoch t=29 is 0.4802140392546231\n",
      "Objective value at epoch t=30 is 0.47993706063063407\n",
      "Objective value at epoch t=31 is 0.47976589342576065\n",
      "Objective value at epoch t=32 is 0.4793951706531085\n",
      "Objective value at epoch t=33 is 0.4791666917084384\n",
      "Objective value at epoch t=34 is 0.4789541438802166\n",
      "Objective value at epoch t=35 is 0.4787233340907826\n",
      "Objective value at epoch t=36 is 0.47854926035652834\n",
      "Objective value at epoch t=37 is 0.47844339169453054\n",
      "Objective value at epoch t=38 is 0.47829444273403\n",
      "Objective value at epoch t=39 is 0.47812186418027053\n",
      "Objective value at epoch t=40 is 0.4779988423930292\n",
      "Objective value at epoch t=41 is 0.47789791189365677\n",
      "Objective value at epoch t=42 is 0.4778322544228688\n",
      "Objective value at epoch t=43 is 0.4777329405840322\n",
      "Objective value at epoch t=44 is 0.47765963461503114\n",
      "Objective value at epoch t=45 is 0.47758660472799275\n",
      "Objective value at epoch t=46 is 0.47751758047776993\n",
      "Objective value at epoch t=47 is 0.4774650456790289\n",
      "Objective value at epoch t=48 is 0.47741664371853093\n",
      "Objective value at epoch t=49 is 0.47736859677585636\n",
      "Objective value at epoch t=50 is 0.4773234984441319\n",
      "Objective value at epoch t=51 is 0.4772886773208044\n",
      "Objective value at epoch t=52 is 0.4772533607429009\n",
      "Objective value at epoch t=53 is 0.4772222618438094\n",
      "Objective value at epoch t=54 is 0.4771954254350641\n",
      "Objective value at epoch t=55 is 0.47716963589792794\n",
      "Objective value at epoch t=56 is 0.47714770136379825\n",
      "Objective value at epoch t=57 is 0.47712704105298903\n",
      "Objective value at epoch t=58 is 0.47710870563871666\n",
      "Objective value at epoch t=59 is 0.47709250786116914\n",
      "Objective value at epoch t=60 is 0.47707750332003984\n",
      "Objective value at epoch t=61 is 0.4770639716291926\n",
      "Objective value at epoch t=62 is 0.47705202082654274\n",
      "Objective value at epoch t=63 is 0.47704085101427784\n",
      "Objective value at epoch t=64 is 0.47703130986949044\n",
      "Objective value at epoch t=65 is 0.47702255601884425\n",
      "Objective value at epoch t=66 is 0.47701455989530495\n",
      "Objective value at epoch t=67 is 0.4770074339193955\n",
      "Objective value at epoch t=68 is 0.4770010049804407\n",
      "Objective value at epoch t=69 is 0.47699522606573524\n",
      "Objective value at epoch t=70 is 0.4769900031867486\n",
      "Objective value at epoch t=71 is 0.47698534078187416\n",
      "Objective value at epoch t=72 is 0.4769811165246017\n",
      "Objective value at epoch t=73 is 0.47697731530075\n",
      "Objective value at epoch t=74 is 0.4769738818346817\n",
      "Objective value at epoch t=75 is 0.4769708187049173\n",
      "Objective value at epoch t=76 is 0.4769680549445924\n",
      "Objective value at epoch t=77 is 0.4769655620190452\n",
      "Objective value at epoch t=78 is 0.4769633161682127\n",
      "Objective value at epoch t=79 is 0.4769612976011229\n",
      "Objective value at epoch t=80 is 0.4769594808592889\n",
      "Objective value at epoch t=81 is 0.47695783878746545\n",
      "Objective value at epoch t=82 is 0.47695637148450887\n",
      "Objective value at epoch t=83 is 0.4769550413855498\n",
      "Objective value at epoch t=84 is 0.47695384772770205\n",
      "Objective value at epoch t=85 is 0.476952775783724\n",
      "Objective value at epoch t=86 is 0.4769518129347098\n",
      "Objective value at epoch t=87 is 0.4769509423741261\n",
      "Objective value at epoch t=88 is 0.4769501600306807\n",
      "Objective value at epoch t=89 is 0.4769494550201393\n",
      "Objective value at epoch t=90 is 0.47694882125939486\n",
      "Objective value at epoch t=91 is 0.4769482503557261\n",
      "Objective value at epoch t=92 is 0.47694773670512325\n",
      "Objective value at epoch t=93 is 0.47694727456134195\n",
      "Objective value at epoch t=94 is 0.4769468586354818\n",
      "Objective value at epoch t=95 is 0.4769464839696386\n",
      "Objective value at epoch t=96 is 0.47694614715816536\n",
      "Objective value at epoch t=97 is 0.4769458438133677\n",
      "Objective value at epoch t=98 is 0.47694557090148926\n",
      "Objective value at epoch t=99 is 0.47694532523153477\n"
     ]
    }
   ],
   "source": [
    "lam = 1E-6\n",
    "stepsize = 0.1\n",
    "w, objvals_sgd = sgd(x_train, y_train, lam, stepsize)"
   ]
  },
  {
   "cell_type": "markdown",
   "metadata": {},
   "source": [
    "# 4. Compare GD with SGD\n",
    "\n",
    "Plot objective function values against epochs."
   ]
  },
  {
   "cell_type": "code",
   "execution_count": 13,
   "metadata": {},
   "outputs": [
    {
     "name": "stderr",
     "output_type": "stream",
     "text": [
      "<ipython-input-13-9b8d8f4cdfb5>:9: MatplotlibDeprecationWarning: Case-insensitive properties were deprecated in 3.3 and support will be removed two minor releases later\n",
      "  line0, = plt.plot(epochs_gd, objvals_gd, '--b', LineWidth=4)\n",
      "<ipython-input-13-9b8d8f4cdfb5>:10: MatplotlibDeprecationWarning: Case-insensitive properties were deprecated in 3.3 and support will be removed two minor releases later\n",
      "  line1, = plt.plot(epochs_sgd, objvals_sgd, '-r', LineWidth=2)\n",
      "<ipython-input-13-9b8d8f4cdfb5>:11: MatplotlibDeprecationWarning: Case-insensitive properties were deprecated in 3.3 and support will be removed two minor releases later\n",
      "  plt.xlabel('Epochs', FontSize=20)\n",
      "<ipython-input-13-9b8d8f4cdfb5>:12: MatplotlibDeprecationWarning: Case-insensitive properties were deprecated in 3.3 and support will be removed two minor releases later\n",
      "  plt.ylabel('Objective Value', FontSize=20)\n",
      "<ipython-input-13-9b8d8f4cdfb5>:13: MatplotlibDeprecationWarning: Case-insensitive properties were deprecated in 3.3 and support will be removed two minor releases later\n",
      "  plt.xticks(FontSize=16)\n",
      "<ipython-input-13-9b8d8f4cdfb5>:14: MatplotlibDeprecationWarning: Case-insensitive properties were deprecated in 3.3 and support will be removed two minor releases later\n",
      "  plt.yticks(FontSize=16)\n"
     ]
    },
    {
     "data": {
      "image/png": "[encoded data removed]",
      "text/plain": [
       "<Figure size 432x288 with 1 Axes>"
      ]
     },
     "metadata": {
      "needs_background": "light"
     },
     "output_type": "display_data"
    }
   ],
   "source": [
    "import matplotlib.pyplot as plt\n",
    "%matplotlib inline\n",
    "\n",
    "fig = plt.figure(figsize=(6, 4))\n",
    "\n",
    "epochs_gd = range(len(objvals_gd))\n",
    "epochs_sgd = range(len(objvals_sgd))\n",
    "\n",
    "line0, = plt.plot(epochs_gd, objvals_gd, '--b', LineWidth=4)\n",
    "line1, = plt.plot(epochs_sgd, objvals_sgd, '-r', LineWidth=2)\n",
    "plt.xlabel('Epochs', FontSize=20)\n",
    "plt.ylabel('Objective Value', FontSize=20)\n",
    "plt.xticks(FontSize=16)\n",
    "plt.yticks(FontSize=16)\n",
    "plt.legend([line0, line1], ['GD', 'SGD'], fontsize=20)\n",
    "plt.tight_layout()\n",
    "plt.show()\n",
    "fig.savefig('compare_gd_sgd.pdf', format='pdf', dpi=1200)"
   ]
  },
  {
   "cell_type": "markdown",
   "metadata": {},
   "source": [
    "# 5. Prediction"
   ]
  },
  {
   "cell_type": "code",
   "execution_count": 14,
   "metadata": {},
   "outputs": [],
   "source": [
    "# Predict class label\n",
    "# Inputs:\n",
    "#     w: d-by-1 matrix\n",
    "#     X: m-by-d matrix\n",
    "# Return:\n",
    "#     f: m-by-1 matrix, the predictions\n",
    "def predict(w, X):\n",
    "    xw = numpy.dot(X, w)\n",
    "    f = numpy.sign(xw)\n",
    "    return f"
   ]
  },
  {
   "cell_type": "code",
   "execution_count": 15,
   "metadata": {},
   "outputs": [
    {
     "name": "stdout",
     "output_type": "stream",
     "text": [
      "Training classification error is 0.2265625\n"
     ]
    }
   ],
   "source": [
    "# evaluate training error\n",
    "f_train = predict(w, x_train)\n",
    "diff = numpy.abs(f_train - y_train) / 2\n",
    "error_train = numpy.mean(diff)\n",
    "print('Training classification error is ' + str(error_train))"
   ]
  },
  {
   "cell_type": "code",
   "execution_count": 16,
   "metadata": {},
   "outputs": [
    {
     "name": "stdout",
     "output_type": "stream",
     "text": [
      "Test classification error is 0.2109375\n"
     ]
    }
   ],
   "source": [
    "# evaluate test error\n",
    "f_test = predict(w, x_test)\n",
    "diff = numpy.abs(f_test - y_test) / 2\n",
    "error_test = numpy.mean(diff)\n",
    "print('Test classification error is ' + str(error_test))"
   ]
  },
  {
   "cell_type": "markdown",
   "metadata": {},
   "source": [
    "# 6. Mini-batch SGD (fill the code)\n",
    "\n"
   ]
  },
  {
   "cell_type": "markdown",
   "metadata": {},
   "source": [
    "## 6.1. Compute the objective $Q_I$ and its gradient using a batch of samples\n",
    "\n",
    "Define $Q_I (w) = \\frac{1}{b} \\sum_{i \\in I} \\log \\Big( 1 + \\exp \\big( - y_i x_i^T w \\big) \\Big) + \\frac{\\lambda}{2} \\| w \\|_2^2 $, where $I$ is a set containing $b$ indices randomly drawn from $\\{ 1, \\cdots , n \\}$ without replacement.\n",
    "\n",
    "The stochastic gradient at $w$ is $g_I = \\frac{\\partial Q_I }{ \\partial w} = \\frac{1}{b} \\sum_{i \\in I} \\frac{- y_i x_i }{1 + \\exp ( y_i x_i^T w)} + \\lambda w$."
   ]
  },
  {
   "cell_type": "code",
   "execution_count": 97,
   "metadata": {},
   "outputs": [],
   "source": [
    "# Calculate the objective Q_I and the gradient of Q_I\n",
    "# Inputs:\n",
    "#     w: d-by-1 matrix\n",
    "#     xi: b-by-d matrix\n",
    "#     yi: b-by-1 matrix\n",
    "#     lam: scalar, the regularization parameter\n",
    "#     b: integer, the batch size\n",
    "# Return:\n",
    "#     obj: scalar, the objective Q_i\n",
    "#     g: d-by-1 matrix, gradient of Q_i\n",
    "\n",
    "# def mb_stochastic_objective_gradient(w, xi, yi, lam, b):\n",
    "#     # Fill the function\n",
    "#     # Follow the implementation of stochastic_objective_gradient\n",
    "#     # Use matrix-vector multiplication; do not use FOR LOOP of vector-vector multiplications\n",
    "#     ...    \n",
    "#     obj = 0\n",
    "#     g = 0\n",
    "#     for i in range(b):\n",
    "#         obji, gi = stochastic_objective_gradient(w, xi[i, :], yi[i], lam)\n",
    "#         obj += obji\n",
    "#         g += gi\n",
    "#     obj /= b\n",
    "#     g /= b\n",
    "#     return obj, g\n",
    "\n",
    "\n",
    "def mb_stochastic_objective_gradient(w, xi, yi, lam, b):\n",
    "    # Fill the function\n",
    "    # Follow the implementation of stochastic_objective_gradient\n",
    "    # Use matrix-vector multiplication; do not use FOR LOOP of vector-vector multiplications\n",
    "    ...    \n",
    "    d = xi.shape[1]\n",
    "    obj = 0\n",
    "    g = 0\n",
    "    for i in range(b):\n",
    "#         yx = yi[i] * xi[i] # 1-by-d matrix\n",
    "#         yxw = float(numpy.dot(yx, w)) # scalar\n",
    "\n",
    "#         # calculate objective function Q_i\n",
    "#         loss = numpy.log(1 + numpy.exp(-yxw)) # scalar\n",
    "#         reg = lam / 2 * numpy.sum(w * w) # scalar\n",
    "#         obj += loss + reg\n",
    "\n",
    "#         # calculate stochastic gradient\n",
    "#         g_loss = -yx.T / (1 + numpy.exp(yxw)) # d-by-1 matrix\n",
    "#         g += g_loss + lam * w # d-by-1 matrix\n",
    "        \n",
    "        \n",
    "        obji, gi = stochastic_objective_gradient(w, xi[i, :], yi[i], lam)\n",
    "        obj += obji\n",
    "        g += gi\n",
    "    obj /= b\n",
    "    g /= b\n",
    "    return obj, g"
   ]
  },
  {
   "cell_type": "markdown",
   "metadata": {},
   "source": [
    "## 6.2. Implement mini-batch SGD\n",
    "\n",
    "Hints:\n",
    "1. In every epoch, randomly permute the $n$ samples (just like SGD).\n",
    "2. Each epoch has $\\frac{n}{b}$ iterations. In every iteration, use $b$ samples, and compute the gradient and objective using the ``mb_stochastic_objective_gradient`` function. In the next iteration, use the next $b$ samples, and so on.\n"
   ]
  },
  {
   "cell_type": "code",
   "execution_count": 104,
   "metadata": {},
   "outputs": [],
   "source": [
    "# Mini-Batch SGD for solving logistic regression\n",
    "# Inputs:\n",
    "#     x: n-by-d matrix\n",
    "#     y: n-by-1 matrix\n",
    "#     lam: scalar, the regularization parameter\n",
    "#     b: integer, the batch size\n",
    "#     stepsize: scalar\n",
    "#     max_epoch: integer, the maximal epochs\n",
    "#     w: d-by-1 matrix, initialization of w\n",
    "# Return:\n",
    "#     w: the solution\n",
    "#     objvals: record of each iteration's objective value\n",
    "def mb_sgd(x, y, lam, b, stepsize, max_epoch=100, w=None):\n",
    "    # Fill the function\n",
    "    # Follow the implementation of sgd\n",
    "    # Record one objective value per epoch (not per iteration!)\n",
    "    ...\n",
    "    n, d = x.shape\n",
    "    numBatches = -(n // -b)\n",
    "    objvals = numpy.zeros(max_epoch) # store the objective values\n",
    "    if w is None:\n",
    "        w = numpy.zeros((d, 1)) # zero initialization\n",
    "    \n",
    "    for t in range(max_epoch):\n",
    "        # randomly shuffle the samples\n",
    "        rand_indices = numpy.random.permutation(n)\n",
    "        x_rand = x[rand_indices, :]\n",
    "        y_rand = y[rand_indices, :]\n",
    "        \n",
    "        objval = 0 # accumulate the objective values\n",
    "        \n",
    "        \n",
    "        \n",
    "        for i in range(numBatches):\n",
    "            xi = x_rand[b*i:b*(i+1), :] # b-by-d matrix sampled from random permutation\n",
    "            yi = y_rand[b*i:b*(i+1), :] # b-by-1 matrix sampled from random permutation\n",
    "            obj, g = mb_stochastic_objective_gradient(w, xi, yi, lam, b)\n",
    "            objval += obj\n",
    "            w -= stepsize * g\n",
    "        \n",
    "        stepsize *= 0.9 # decrease step size\n",
    "        objval /= numBatches\n",
    "        objvals[t] = objval\n",
    "        print('Objective value at epoch t=' + str(t) + ' is ' + str(objval))\n",
    "    \n",
    "    return w, objvals"
   ]
  },
  {
   "cell_type": "markdown",
   "metadata": {},
   "source": [
    "## 6.3. Run MB-SGD"
   ]
  },
  {
   "cell_type": "code",
   "execution_count": 105,
   "metadata": {},
   "outputs": [
    {
     "name": "stdout",
     "output_type": "stream",
     "text": [
      "Objective value at epoch t=0 is 43.877579355384526\n",
      "Objective value at epoch t=1 is 39.46356485193751\n",
      "Objective value at epoch t=2 is 38.92951071097652\n",
      "Objective value at epoch t=3 is 38.78487166443871\n",
      "Objective value at epoch t=4 is 38.8634162925736\n",
      "Objective value at epoch t=5 is 38.78340253480033\n",
      "Objective value at epoch t=6 is 38.823225704367914\n",
      "Objective value at epoch t=7 is 38.70337242003512\n",
      "Objective value at epoch t=8 is 38.815476454411595\n",
      "Objective value at epoch t=9 is 38.77264675377997\n",
      "Objective value at epoch t=10 is 38.790650018084534\n",
      "Objective value at epoch t=11 is 38.861200156551305\n",
      "Objective value at epoch t=12 is 38.81008958094925\n",
      "Objective value at epoch t=13 is 38.78055224353065\n",
      "Objective value at epoch t=14 is 38.79023301420696\n",
      "Objective value at epoch t=15 is 38.78652404279828\n",
      "Objective value at epoch t=16 is 38.84905584271962\n",
      "Objective value at epoch t=17 is 38.77122940692177\n",
      "Objective value at epoch t=18 is 38.84470643685589\n",
      "Objective value at epoch t=19 is 38.75958925749226\n",
      "Objective value at epoch t=20 is 38.82799258474866\n",
      "Objective value at epoch t=21 is 38.77628620047202\n",
      "Objective value at epoch t=22 is 38.76882349512861\n",
      "Objective value at epoch t=23 is 38.86370625651438\n",
      "Objective value at epoch t=24 is 38.78927331392696\n",
      "Objective value at epoch t=25 is 38.787909791034636\n",
      "Objective value at epoch t=26 is 38.66775398824568\n",
      "Objective value at epoch t=27 is 38.87274976608237\n",
      "Objective value at epoch t=28 is 38.78947158224282\n",
      "Objective value at epoch t=29 is 38.81153977704463\n",
      "Objective value at epoch t=30 is 38.72213804681846\n",
      "Objective value at epoch t=31 is 38.7029252001072\n",
      "Objective value at epoch t=32 is 38.85273444752814\n",
      "Objective value at epoch t=33 is 38.76130219227015\n",
      "Objective value at epoch t=34 is 38.72669861101239\n",
      "Objective value at epoch t=35 is 38.827463169984824\n",
      "Objective value at epoch t=36 is 38.79280272198948\n",
      "Objective value at epoch t=37 is 38.78058409955444\n",
      "Objective value at epoch t=38 is 38.80298639564422\n",
      "Objective value at epoch t=39 is 38.857090714841334\n",
      "Objective value at epoch t=40 is 38.77308937570335\n",
      "Objective value at epoch t=41 is 38.78958126633958\n",
      "Objective value at epoch t=42 is 38.784302867407725\n",
      "Objective value at epoch t=43 is 38.749779434472394\n",
      "Objective value at epoch t=44 is 38.83226439268638\n",
      "Objective value at epoch t=45 is 38.72620043363543\n",
      "Objective value at epoch t=46 is 38.92146531619719\n",
      "Objective value at epoch t=47 is 38.70307683191094\n",
      "Objective value at epoch t=48 is 38.78152542950425\n",
      "Objective value at epoch t=49 is 38.89509976495906\n",
      "Objective value at epoch t=50 is 38.76265033674516\n",
      "Objective value at epoch t=51 is 38.8678583321279\n",
      "Objective value at epoch t=52 is 38.81222866310987\n",
      "Objective value at epoch t=53 is 38.771850841238304\n",
      "Objective value at epoch t=54 is 38.75721942649665\n",
      "Objective value at epoch t=55 is 38.69166173743835\n",
      "Objective value at epoch t=56 is 38.77169052263948\n",
      "Objective value at epoch t=57 is 38.77032827014345\n",
      "Objective value at epoch t=58 is 38.7979285501251\n",
      "Objective value at epoch t=59 is 38.72530797293622\n",
      "Objective value at epoch t=60 is 38.85367093979531\n",
      "Objective value at epoch t=61 is 38.79079669949197\n",
      "Objective value at epoch t=62 is 38.80334646341375\n",
      "Objective value at epoch t=63 is 38.79811149911507\n",
      "Objective value at epoch t=64 is 38.8511461891728\n",
      "Objective value at epoch t=65 is 38.75633814444149\n",
      "Objective value at epoch t=66 is 38.84881387181669\n",
      "Objective value at epoch t=67 is 38.79750354422355\n",
      "Objective value at epoch t=68 is 38.826021323319\n",
      "Objective value at epoch t=69 is 38.88119192433964\n",
      "Objective value at epoch t=70 is 38.88491411134877\n",
      "Objective value at epoch t=71 is 38.845393466268575\n",
      "Objective value at epoch t=72 is 38.77961796341594\n",
      "Objective value at epoch t=73 is 38.74670682030826\n",
      "Objective value at epoch t=74 is 38.620630528747\n",
      "Objective value at epoch t=75 is 38.77350274414108\n",
      "Objective value at epoch t=76 is 38.81127231090381\n",
      "Objective value at epoch t=77 is 38.77471469400805\n",
      "Objective value at epoch t=78 is 38.80969312310773\n",
      "Objective value at epoch t=79 is 38.84929596232109\n",
      "Objective value at epoch t=80 is 38.68683351024825\n",
      "Objective value at epoch t=81 is 38.721548216573765\n",
      "Objective value at epoch t=82 is 38.74543658399014\n",
      "Objective value at epoch t=83 is 38.765896044052404\n",
      "Objective value at epoch t=84 is 38.78690001281345\n",
      "Objective value at epoch t=85 is 38.830130637077744\n",
      "Objective value at epoch t=86 is 38.74750618809532\n",
      "Objective value at epoch t=87 is 38.77386043937853\n",
      "Objective value at epoch t=88 is 38.7492219908662\n",
      "Objective value at epoch t=89 is 38.776760228025644\n",
      "Objective value at epoch t=90 is 38.80405995487414\n",
      "Objective value at epoch t=91 is 38.86016471302187\n",
      "Objective value at epoch t=92 is 38.798533367634455\n",
      "Objective value at epoch t=93 is 38.80278524849861\n",
      "Objective value at epoch t=94 is 38.84661194131905\n",
      "Objective value at epoch t=95 is 38.685993047519105\n",
      "Objective value at epoch t=96 is 38.87204919792659\n",
      "Objective value at epoch t=97 is 38.846597874437606\n",
      "Objective value at epoch t=98 is 38.81514251023298\n",
      "Objective value at epoch t=99 is 38.790262015060776\n"
     ]
    }
   ],
   "source": [
    "# MB-SGD with batch size b=8\n",
    "lam = 1E-6 # do not change\n",
    "b = 8 # do not change\n",
    "stepsize = 0.1 # you must tune this parameter\n",
    "\n",
    "w, objvals_mbsgd8 = mb_sgd(x_train, y_train, lam, b, stepsize)"
   ]
  },
  {
   "cell_type": "code",
   "execution_count": 106,
   "metadata": {},
   "outputs": [
    {
     "name": "stdout",
     "output_type": "stream",
     "text": [
      "Objective value at epoch t=0 is 6.4903904719785235\n",
      "Objective value at epoch t=1 is 5.841022375651955\n",
      "Objective value at epoch t=2 is 5.503103870897971\n",
      "Objective value at epoch t=3 is 5.306758900895639\n",
      "Objective value at epoch t=4 is 5.17918315877035\n",
      "Objective value at epoch t=5 is 5.088729345469856\n",
      "Objective value at epoch t=6 is 5.020357895747933\n",
      "Objective value at epoch t=7 is 4.971469936888084\n",
      "Objective value at epoch t=8 is 4.9319278146764765\n",
      "Objective value at epoch t=9 is 4.904562167589037\n",
      "Objective value at epoch t=10 is 4.882833229409931\n",
      "Objective value at epoch t=11 is 4.864020619708992\n",
      "Objective value at epoch t=12 is 4.847469570829016\n",
      "Objective value at epoch t=13 is 4.83813052695575\n",
      "Objective value at epoch t=14 is 4.8298283371206825\n",
      "Objective value at epoch t=15 is 4.822003701308008\n",
      "Objective value at epoch t=16 is 4.813449320147696\n",
      "Objective value at epoch t=17 is 4.809228251061671\n",
      "Objective value at epoch t=18 is 4.807576663011523\n",
      "Objective value at epoch t=19 is 4.800210989917187\n",
      "Objective value at epoch t=20 is 4.7976119369212515\n",
      "Objective value at epoch t=21 is 4.794473622838175\n",
      "Objective value at epoch t=22 is 4.794971436757568\n",
      "Objective value at epoch t=23 is 4.7929619062245195\n",
      "Objective value at epoch t=24 is 4.786696427019072\n",
      "Objective value at epoch t=25 is 4.786523341258543\n",
      "Objective value at epoch t=26 is 4.786426063152373\n",
      "Objective value at epoch t=27 is 4.784978126630314\n",
      "Objective value at epoch t=28 is 4.785289837658221\n",
      "Objective value at epoch t=29 is 4.784289457169642\n",
      "Objective value at epoch t=30 is 4.782728736076812\n",
      "Objective value at epoch t=31 is 4.781580688101387\n",
      "Objective value at epoch t=32 is 4.782416488732394\n",
      "Objective value at epoch t=33 is 4.783504477880027\n",
      "Objective value at epoch t=34 is 4.782355185888211\n",
      "Objective value at epoch t=35 is 4.782440909221245\n",
      "Objective value at epoch t=36 is 4.779140438744654\n",
      "Objective value at epoch t=37 is 4.780311745917624\n",
      "Objective value at epoch t=38 is 4.779833146139636\n",
      "Objective value at epoch t=39 is 4.779248717056663\n",
      "Objective value at epoch t=40 is 4.780114205195249\n",
      "Objective value at epoch t=41 is 4.781315391363734\n",
      "Objective value at epoch t=42 is 4.77982019310323\n",
      "Objective value at epoch t=43 is 4.777742698848413\n",
      "Objective value at epoch t=44 is 4.779772498754271\n",
      "Objective value at epoch t=45 is 4.780971490319829\n",
      "Objective value at epoch t=46 is 4.782263568284163\n",
      "Objective value at epoch t=47 is 4.78167873330182\n",
      "Objective value at epoch t=48 is 4.78091361020156\n",
      "Objective value at epoch t=49 is 4.783563773341287\n",
      "Objective value at epoch t=50 is 4.780748882907835\n",
      "Objective value at epoch t=51 is 4.779884293099263\n",
      "Objective value at epoch t=52 is 4.778873824280746\n",
      "Objective value at epoch t=53 is 4.780593243083027\n",
      "Objective value at epoch t=54 is 4.776474815471227\n",
      "Objective value at epoch t=55 is 4.779607552284186\n",
      "Objective value at epoch t=56 is 4.778786465282082\n",
      "Objective value at epoch t=57 is 4.779150342832849\n",
      "Objective value at epoch t=58 is 4.779123286087387\n",
      "Objective value at epoch t=59 is 4.7792293892217\n",
      "Objective value at epoch t=60 is 4.782646404459581\n",
      "Objective value at epoch t=61 is 4.779523249505034\n",
      "Objective value at epoch t=62 is 4.776553816333895\n",
      "Objective value at epoch t=63 is 4.78006030123402\n",
      "Objective value at epoch t=64 is 4.777196149437677\n",
      "Objective value at epoch t=65 is 4.779246386333919\n",
      "Objective value at epoch t=66 is 4.777361218941178\n",
      "Objective value at epoch t=67 is 4.77886085076042\n",
      "Objective value at epoch t=68 is 4.777460691411444\n",
      "Objective value at epoch t=69 is 4.7775206945582624\n",
      "Objective value at epoch t=70 is 4.7824155487976725\n",
      "Objective value at epoch t=71 is 4.780303522955814\n",
      "Objective value at epoch t=72 is 4.780075843745491\n",
      "Objective value at epoch t=73 is 4.7794047068736685\n",
      "Objective value at epoch t=74 is 4.782860888981413\n",
      "Objective value at epoch t=75 is 4.7781199639608865\n",
      "Objective value at epoch t=76 is 4.779971700623575\n",
      "Objective value at epoch t=77 is 4.780429324740309\n",
      "Objective value at epoch t=78 is 4.779046098273411\n",
      "Objective value at epoch t=79 is 4.779049347457143\n",
      "Objective value at epoch t=80 is 4.776652416878756\n",
      "Objective value at epoch t=81 is 4.781705714452124\n",
      "Objective value at epoch t=82 is 4.779809835294346\n",
      "Objective value at epoch t=83 is 4.779091683385641\n",
      "Objective value at epoch t=84 is 4.780229971256027\n",
      "Objective value at epoch t=85 is 4.78015574584874\n",
      "Objective value at epoch t=86 is 4.781484566491294\n",
      "Objective value at epoch t=87 is 4.77967542745936\n",
      "Objective value at epoch t=88 is 4.785340066406014\n",
      "Objective value at epoch t=89 is 4.780361194902068\n",
      "Objective value at epoch t=90 is 4.779407725001338\n",
      "Objective value at epoch t=91 is 4.780065334317913\n",
      "Objective value at epoch t=92 is 4.778263381374724\n",
      "Objective value at epoch t=93 is 4.782639564895606\n",
      "Objective value at epoch t=94 is 4.778062440802629\n",
      "Objective value at epoch t=95 is 4.7788742398308175\n",
      "Objective value at epoch t=96 is 4.778642417615288\n",
      "Objective value at epoch t=97 is 4.77645546397089\n",
      "Objective value at epoch t=98 is 4.783726819419042\n",
      "Objective value at epoch t=99 is 4.776530991710838\n"
     ]
    }
   ],
   "source": [
    "# MB-SGD with batch size b=64\n",
    "lam = 1E-6 # do not change\n",
    "b = 64 # do not change\n",
    "stepsize = 0.1 # you must tune this parameter\n",
    "\n",
    "w, objvals_mbsgd64 = mb_sgd(x_train, y_train, lam, b, stepsize)"
   ]
  },
  {
   "cell_type": "markdown",
   "metadata": {},
   "source": [
    "# 7. Plot and compare GD, SGD, and MB-SGD"
   ]
  },
  {
   "cell_type": "markdown",
   "metadata": {},
   "source": [
    "You are required to compare the following algorithms:\n",
    "\n",
    "- Gradient descent (GD)\n",
    "\n",
    "- SGD\n",
    "\n",
    "- MB-SGD with b=8\n",
    "\n",
    "- MB-SGD with b=64\n",
    "\n",
    "Follow the code in Section 4 to plot ```objective function value``` against ```epochs```. There should be four curves in the plot; each curve corresponds to one algorithm."
   ]
  },
  {
   "cell_type": "markdown",
   "metadata": {},
   "source": [
    "Hint: Logistic regression with $\\ell_2$-norm regularization is a strongly convex optimization problem. All the algorithms will converge to the same solution. **In the end, the ``objective function value`` of the 4 algorithms will be the same. If not the same, your implementation must be wrong. Do NOT submit wrong code and wrong result!**"
   ]
  },
  {
   "cell_type": "code",
   "execution_count": 92,
   "metadata": {},
   "outputs": [
    {
     "name": "stderr",
     "output_type": "stream",
     "text": [
      "<ipython-input-92-0d2cae9f04f6>:12: MatplotlibDeprecationWarning: Case-insensitive properties were deprecated in 3.3 and support will be removed two minor releases later\n",
      "  line0, = plt.plot(epochs_gd, objvals_gd, '--b', LineWidth=4)\n",
      "<ipython-input-92-0d2cae9f04f6>:13: MatplotlibDeprecationWarning: Case-insensitive properties were deprecated in 3.3 and support will be removed two minor releases later\n",
      "  line1, = plt.plot(epochs_sgd, objvals_sgd, '-r', LineWidth=2)\n",
      "<ipython-input-92-0d2cae9f04f6>:14: MatplotlibDeprecationWarning: Case-insensitive properties were deprecated in 3.3 and support will be removed two minor releases later\n",
      "  line2, = plt.plot(epochs_mgsgd8, objvals_mbsgd8, '--k', LineWidth=2)\n",
      "<ipython-input-92-0d2cae9f04f6>:15: MatplotlibDeprecationWarning: Case-insensitive properties were deprecated in 3.3 and support will be removed two minor releases later\n",
      "  line3, = plt.plot(epochs_mgsgd64, objvals_mbsgd64, '-y', LineWidth=2)\n",
      "<ipython-input-92-0d2cae9f04f6>:16: MatplotlibDeprecationWarning: Case-insensitive properties were deprecated in 3.3 and support will be removed two minor releases later\n",
      "  plt.xlabel('Epochs', FontSize=20)\n",
      "<ipython-input-92-0d2cae9f04f6>:17: MatplotlibDeprecationWarning: Case-insensitive properties were deprecated in 3.3 and support will be removed two minor releases later\n",
      "  plt.ylabel('Objective Value', FontSize=20)\n",
      "<ipython-input-92-0d2cae9f04f6>:18: MatplotlibDeprecationWarning: Case-insensitive properties were deprecated in 3.3 and support will be removed two minor releases later\n",
      "  plt.xticks(FontSize=16)\n",
      "<ipython-input-92-0d2cae9f04f6>:19: MatplotlibDeprecationWarning: Case-insensitive properties were deprecated in 3.3 and support will be removed two minor releases later\n",
      "  plt.yticks(FontSize=16)\n"
     ]
    },
    {
     "data": {
      "image/png": "[encoded data removed]",
      "text/plain": [
       "<Figure size 432x288 with 1 Axes>"
      ]
     },
     "metadata": {
      "needs_background": "light"
     },
     "output_type": "display_data"
    }
   ],
   "source": [
    "# plot the 4 curves:\n",
    "import matplotlib.pyplot as plt\n",
    "%matplotlib inline\n",
    "\n",
    "fig = plt.figure(figsize=(6, 4))\n",
    "\n",
    "epochs_gd = range(len(objvals_gd))\n",
    "epochs_sgd = range(len(objvals_sgd))\n",
    "epochs_mgsgd8 = range(len(objvals_mbsgd8))\n",
    "epochs_mgsgd64 = range(len(objvals_mbsgd64))\n",
    "\n",
    "line0, = plt.plot(epochs_gd, objvals_gd, '--b', LineWidth=4)\n",
    "line1, = plt.plot(epochs_sgd, objvals_sgd, '-r', LineWidth=2)\n",
    "line2, = plt.plot(epochs_mgsgd8, objvals_mbsgd8, '--k', LineWidth=2)\n",
    "line3, = plt.plot(epochs_mgsgd64, objvals_mbsgd64, '-y', LineWidth=2)\n",
    "plt.xlabel('Epochs', FontSize=20)\n",
    "plt.ylabel('Objective Value', FontSize=20)\n",
    "plt.xticks(FontSize=16)\n",
    "plt.yticks(FontSize=16)\n",
    "plt.legend([line0, line1, line2, line3], ['GD', 'SGD', 'MBSGD8', 'MBSGD64'], fontsize=20)\n",
    "plt.tight_layout()\n",
    "plt.show()\n",
    "fig.savefig('compare_gd_sgd.pdf', format='pdf', dpi=1200)"
   ]
  },
  {
   "cell_type": "markdown",
   "metadata": {},
   "source": []
  },
  {
   "cell_type": "code",
   "execution_count": null,
   "metadata": {},
   "outputs": [],
   "source": []
  },
  {
   "cell_type": "code",
   "execution_count": null,
   "metadata": {},
   "outputs": [],
   "source": []
  }
 ],
 "metadata": {
  "kernelspec": {
   "display_name": "Python 3",
   "language": "python",
   "name": "python3"
  },
  "language_info": {
   "codemirror_mode": {
    "name": "ipython",
    "version": 3
   },
   "file_extension": ".py",
   "mimetype": "text/x-python",
   "name": "python",
   "nbconvert_exporter": "python",
   "pygments_lexer": "ipython3",
   "version": "3.8.5"
  }
 },
 "nbformat": 4,
 "nbformat_minor": 2
}
